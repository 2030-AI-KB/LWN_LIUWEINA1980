{
 "cells": [
  {
   "cell_type": "code",
   "execution_count": 1,
   "id": "950b0c1e",
   "metadata": {},
   "outputs": [
    {
     "name": "stdout",
     "output_type": "stream",
     "text": [
      "input num:1\n",
      "<class 'str'>\n"
     ]
    }
   ],
   "source": [
    "num = input(\"input num:\")\n",
    "print(type(num))"
   ]
  },
  {
   "cell_type": "code",
   "execution_count": 2,
   "id": "0af93a6d",
   "metadata": {},
   "outputs": [
    {
     "name": "stdout",
     "output_type": "stream",
     "text": [
      "input num1:5\n",
      "input num2:3\n"
     ]
    },
    {
     "ename": "TypeError",
     "evalue": "unsupported operand type(s) for divmod(): 'str' and 'str'",
     "output_type": "error",
     "traceback": [
      "\u001b[1;31m---------------------------------------------------------------------------\u001b[0m",
      "\u001b[1;31mTypeError\u001b[0m                                 Traceback (most recent call last)",
      "Cell \u001b[1;32mIn[2], line 4\u001b[0m\n\u001b[0;32m      1\u001b[0m num1 \u001b[38;5;241m=\u001b[39m \u001b[38;5;28minput\u001b[39m(\u001b[38;5;124m\"\u001b[39m\u001b[38;5;124minput num1:\u001b[39m\u001b[38;5;124m\"\u001b[39m)\n\u001b[0;32m      2\u001b[0m num2 \u001b[38;5;241m=\u001b[39m \u001b[38;5;28minput\u001b[39m(\u001b[38;5;124m\"\u001b[39m\u001b[38;5;124minput num2:\u001b[39m\u001b[38;5;124m\"\u001b[39m)\n\u001b[1;32m----> 4\u001b[0m R \u001b[38;5;241m=\u001b[39m \u001b[38;5;28;43mdivmod\u001b[39;49m\u001b[43m(\u001b[49m\u001b[43mnum1\u001b[49m\u001b[43m,\u001b[49m\u001b[43m \u001b[49m\u001b[43mnum2\u001b[49m\u001b[43m)\u001b[49m\n\u001b[0;32m      6\u001b[0m \u001b[38;5;28mprint\u001b[39m(\u001b[38;5;124m\"\u001b[39m\u001b[38;5;124m묷은: \u001b[39m\u001b[38;5;124m\"\u001b[39m,R[\u001b[38;5;241m0\u001b[39m])\n\u001b[0;32m      7\u001b[0m \u001b[38;5;28mprint\u001b[39m(\u001b[38;5;124m\"\u001b[39m\u001b[38;5;124m나머지는: \u001b[39m\u001b[38;5;124m\"\u001b[39m,R[\u001b[38;5;241m1\u001b[39m])\n",
      "\u001b[1;31mTypeError\u001b[0m: unsupported operand type(s) for divmod(): 'str' and 'str'"
     ]
    }
   ],
   "source": [
    "num1 = input(\"input num1:\")\n",
    "num2 = input(\"input num2:\")\n",
    "\n",
    "R = divmod(num1, num2)\n",
    "\n",
    "print(\"묷은: \",R[0])\n",
    "print(\"나머지는: \",R[1])"
   ]
  },
  {
   "cell_type": "code",
   "execution_count": 3,
   "id": "8e93f2be",
   "metadata": {},
   "outputs": [
    {
     "name": "stdout",
     "output_type": "stream",
     "text": [
      "input num1:5\n",
      "input num2:3\n",
      "묷은:  1\n",
      "나머지는:  2\n"
     ]
    }
   ],
   "source": [
    "num1 = input(\"input num1:\")\n",
    "num1 = int(num1)\n",
    "num2 = input(\"input num2:\")\n",
    "num2 = int(num2)\n",
    "\n",
    "R = divmod(num1, num2)\n",
    "\n",
    "print(\"묷은: \",R[0])\n",
    "print(\"나머지는: \",R[1])"
   ]
  },
  {
   "cell_type": "code",
   "execution_count": null,
   "id": "81f46701",
   "metadata": {},
   "outputs": [],
   "source": []
  }
 ],
 "metadata": {
  "kernelspec": {
   "display_name": "Python 3 (ipykernel)",
   "language": "python",
   "name": "python3"
  },
  "language_info": {
   "codemirror_mode": {
    "name": "ipython",
    "version": 3
   },
   "file_extension": ".py",
   "mimetype": "text/x-python",
   "name": "python",
   "nbconvert_exporter": "python",
   "pygments_lexer": "ipython3",
   "version": "3.10.9"
  }
 },
 "nbformat": 4,
 "nbformat_minor": 5
}
