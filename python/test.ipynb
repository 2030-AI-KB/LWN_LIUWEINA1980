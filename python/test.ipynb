{
 "cells": [
  {
   "cell_type": "code",
   "execution_count": 1,
   "id": "d8ef3a51",
   "metadata": {},
   "outputs": [
    {
     "name": "stdout",
     "output_type": "stream",
     "text": [
      "input num:1\n",
      "<class 'str'>\n"
     ]
    }
   ],
   "source": [
    "num = input(\"input num:\")\n",
    "print(type(num))"
   ]
  },
  {
   "cell_type": "code",
   "execution_count": 2,
   "id": "b1659313",
   "metadata": {},
   "outputs": [
    {
     "name": "stdout",
     "output_type": "stream",
     "text": [
      "input num1:5\n",
      "input num2:3\n"
     ]
    },
    {
     "ename": "TypeError",
     "evalue": "unsupported operand type(s) for divmod(): 'str' and 'str'",
     "output_type": "error",
     "traceback": [
      "\u001b[1;31m---------------------------------------------------------------------------\u001b[0m",
      "\u001b[1;31mTypeError\u001b[0m                                 Traceback (most recent call last)",
      "Cell \u001b[1;32mIn[2], line 4\u001b[0m\n\u001b[0;32m      1\u001b[0m num1 \u001b[38;5;241m=\u001b[39m \u001b[38;5;28minput\u001b[39m(\u001b[38;5;124m\"\u001b[39m\u001b[38;5;124minput num1:\u001b[39m\u001b[38;5;124m\"\u001b[39m)\n\u001b[0;32m      2\u001b[0m num2 \u001b[38;5;241m=\u001b[39m \u001b[38;5;28minput\u001b[39m(\u001b[38;5;124m\"\u001b[39m\u001b[38;5;124minput num2:\u001b[39m\u001b[38;5;124m\"\u001b[39m)\n\u001b[1;32m----> 4\u001b[0m R \u001b[38;5;241m=\u001b[39m \u001b[38;5;28;43mdivmod\u001b[39;49m\u001b[43m(\u001b[49m\u001b[43mnum1\u001b[49m\u001b[43m,\u001b[49m\u001b[43m \u001b[49m\u001b[43mnum2\u001b[49m\u001b[43m)\u001b[49m\n\u001b[0;32m      6\u001b[0m \u001b[38;5;28mprint\u001b[39m(\u001b[38;5;124m\"\u001b[39m\u001b[38;5;124m묷은: \u001b[39m\u001b[38;5;124m\"\u001b[39m,R[\u001b[38;5;241m0\u001b[39m])\n\u001b[0;32m      7\u001b[0m \u001b[38;5;28mprint\u001b[39m(\u001b[38;5;124m\"\u001b[39m\u001b[38;5;124m나머지는: \u001b[39m\u001b[38;5;124m\"\u001b[39m,R[\u001b[38;5;241m1\u001b[39m])\n",
      "\u001b[1;31mTypeError\u001b[0m: unsupported operand type(s) for divmod(): 'str' and 'str'"
     ]
    }
   ],
   "source": [
    "num1 = input(\"input num1:\")\n",
    "num2 = input(\"input num2:\")\n",
    "\n",
    "R = divmod(num1, num2)\n",
    "\n",
    "print(\"묷은: \",R[0])\n",
    "print(\"나머지는: \",R[1])"
   ]
  },
  {
   "cell_type": "code",
   "execution_count": 3,
   "id": "a225f55b",
   "metadata": {},
   "outputs": [
    {
     "name": "stdout",
     "output_type": "stream",
     "text": [
      "input num1:5\n",
      "input num2:3\n",
      "묷은:  1\n",
      "나머지는:  2\n"
     ]
    }
   ],
   "source": [
    "num1 = input(\"input num1:\")\n",
    "num1 = int(num1)\n",
    "num2 = input(\"input num2:\")\n",
    "num2 = int(num2)\n",
    "\n",
    "R = divmod(num1, num2)\n",
    "\n",
    "print(\"두수의 묷은: \",R[0])\n",
    "print(\"두수의 나머지는: \",R[1])"
   ]
  },
  {
   "cell_type": "code",
   "execution_count": 4,
   "id": "bfdf0b5b",
   "metadata": {},
   "outputs": [
    {
     "name": "stdout",
     "output_type": "stream",
     "text": [
      "두수의 묷은:  1 두수의 나머지는:  2\n"
     ]
    }
   ],
   "source": [
    "print(\"두수의 묷은: \",R[0], \"두수의 나머지는: \",R[1])"
   ]
  },
  {
   "cell_type": "code",
   "execution_count": 5,
   "id": "ebfcd604",
   "metadata": {},
   "outputs": [
    {
     "name": "stdout",
     "output_type": "stream",
     "text": [
      "두수의 묷은:  1 ; 두수의 나머지는:  2\n"
     ]
    }
   ],
   "source": [
    "print(\"두수의 묷은: \",R[0], \"; 두수의 나머지는: \",R[1])"
   ]
  },
  {
   "cell_type": "code",
   "execution_count": 6,
   "id": "bd83376e",
   "metadata": {},
   "outputs": [
    {
     "ename": "TypeError",
     "evalue": "Kernel.raw_input() takes from 1 to 2 positional arguments but 3 were given",
     "output_type": "error",
     "traceback": [
      "\u001b[1;31m---------------------------------------------------------------------------\u001b[0m",
      "\u001b[1;31mTypeError\u001b[0m                                 Traceback (most recent call last)",
      "Cell \u001b[1;32mIn[6], line 1\u001b[0m\n\u001b[1;32m----> 1\u001b[0m [num1, num2]\u001b[38;5;241m=\u001b[39m \u001b[38;5;28;43minput\u001b[39;49m\u001b[43m(\u001b[49m\u001b[38;5;124;43m\"\u001b[39;49m\u001b[38;5;124;43minput num1:\u001b[39;49m\u001b[38;5;124;43m\"\u001b[39;49m\u001b[43m,\u001b[49m\u001b[38;5;124;43m\"\u001b[39;49m\u001b[38;5;124;43minput num2:\u001b[39;49m\u001b[38;5;124;43m\"\u001b[39;49m\u001b[43m)\u001b[49m\n\u001b[0;32m      2\u001b[0m num1 \u001b[38;5;241m=\u001b[39m \u001b[38;5;28mint\u001b[39m(num1)\n\u001b[0;32m      3\u001b[0m num2 \u001b[38;5;241m=\u001b[39m \u001b[38;5;28mint\u001b[39m(num2)\n",
      "\u001b[1;31mTypeError\u001b[0m: Kernel.raw_input() takes from 1 to 2 positional arguments but 3 were given"
     ]
    }
   ],
   "source": [
    "[num1, num2]= input(\"input num1:\",\"input num2:\")\n",
    "num1 = int(num1)\n",
    "num2 = int(num2)\n",
    "\n",
    "Sum = num1+num2\n",
    "Sub = num1-num2\n",
    "MultP = num1 * num2\n",
    "DiviS = num1 / num2\n",
    "\n",
    "print(\"두수의 합: \",Sum,\"두수의 빼기 결과: \",Sub,\"두수의 곱하기 결과: \",MultP,\"두수의 나누기 결과: \",DiviS)"
   ]
  },
  {
   "cell_type": "code",
   "execution_count": 7,
   "id": "832d1929",
   "metadata": {},
   "outputs": [
    {
     "ename": "SyntaxError",
     "evalue": "invalid syntax. Perhaps you forgot a comma? (3100547697.py, line 1)",
     "output_type": "error",
     "traceback": [
      "\u001b[1;36m  Cell \u001b[1;32mIn[7], line 1\u001b[1;36m\u001b[0m\n\u001b[1;33m    [num1, num2]= input(\"input num1:\",num1,\"input num2:\"num2)\u001b[0m\n\u001b[1;37m                                           ^\u001b[0m\n\u001b[1;31mSyntaxError\u001b[0m\u001b[1;31m:\u001b[0m invalid syntax. Perhaps you forgot a comma?\n"
     ]
    }
   ],
   "source": [
    "[num1, num2]= input(\"input num1:\",num1,\"input num2:\"num2)\n",
    "num1 = int(num1)\n",
    "num2 = int(num2)\n",
    "\n",
    "Sum = num1+num2\n",
    "Sub = num1-num2\n",
    "MultP = num1 * num2\n",
    "DiviS = num1 / num2\n",
    "\n",
    "print(\"두수의 합: \",Sum,\"두수의 빼기 결과: \",Sub,\"두수의 곱하기 결과: \",MultP,\"두수의 나누기 결과: \",DiviS)"
   ]
  },
  {
   "cell_type": "code",
   "execution_count": 8,
   "id": "c95ddcdf",
   "metadata": {},
   "outputs": [
    {
     "name": "stdout",
     "output_type": "stream",
     "text": [
      "input num1，num2:3，5\n"
     ]
    },
    {
     "ename": "ValueError",
     "evalue": "too many values to unpack (expected 2)",
     "output_type": "error",
     "traceback": [
      "\u001b[1;31m---------------------------------------------------------------------------\u001b[0m",
      "\u001b[1;31mValueError\u001b[0m                                Traceback (most recent call last)",
      "Cell \u001b[1;32mIn[8], line 1\u001b[0m\n\u001b[1;32m----> 1\u001b[0m [num1, num2]\u001b[38;5;241m=\u001b[39m \u001b[38;5;28minput\u001b[39m(\u001b[38;5;124m\"\u001b[39m\u001b[38;5;124minput num1，num2:\u001b[39m\u001b[38;5;124m\"\u001b[39m)\n\u001b[0;32m      2\u001b[0m num1 \u001b[38;5;241m=\u001b[39m \u001b[38;5;28mint\u001b[39m(num1)\n\u001b[0;32m      3\u001b[0m num2 \u001b[38;5;241m=\u001b[39m \u001b[38;5;28mint\u001b[39m(num2)\n",
      "\u001b[1;31mValueError\u001b[0m: too many values to unpack (expected 2)"
     ]
    }
   ],
   "source": [
    "[num1, num2]= input(\"input num1，num2:\")\n",
    "num1 = int(num1)\n",
    "num2 = int(num2)\n",
    "\n",
    "Sum = num1+num2\n",
    "Sub = num1-num2\n",
    "MultP = num1 * num2\n",
    "DiviS = num1 / num2\n",
    "\n",
    "print(\"두수의 합: \",Sum,\"두수의 빼기 결과: \",Sub,\"두수의 곱하기 결과: \",MultP,\"두수의 나누기 결과: \",DiviS)"
   ]
  },
  {
   "cell_type": "code",
   "execution_count": 9,
   "id": "fdb90fdc",
   "metadata": {},
   "outputs": [
    {
     "name": "stdout",
     "output_type": "stream",
     "text": [
      "input num1，num2:3，5\n"
     ]
    },
    {
     "data": {
      "text/plain": [
       "'3，5'"
      ]
     },
     "execution_count": 9,
     "metadata": {},
     "output_type": "execute_result"
    }
   ],
   "source": [
    "input(\"input num1，num2:\")"
   ]
  },
  {
   "cell_type": "code",
   "execution_count": 10,
   "id": "c8b3b137",
   "metadata": {},
   "outputs": [
    {
     "name": "stdout",
     "output_type": "stream",
     "text": [
      "input num1，num2:3,5\n"
     ]
    },
    {
     "ename": "ValueError",
     "evalue": "invalid literal for int() with base 10: ','",
     "output_type": "error",
     "traceback": [
      "\u001b[1;31m---------------------------------------------------------------------------\u001b[0m",
      "\u001b[1;31mValueError\u001b[0m                                Traceback (most recent call last)",
      "Cell \u001b[1;32mIn[10], line 3\u001b[0m\n\u001b[0;32m      1\u001b[0m num \u001b[38;5;241m=\u001b[39m \u001b[38;5;28minput\u001b[39m(\u001b[38;5;124m\"\u001b[39m\u001b[38;5;124minput num1，num2:\u001b[39m\u001b[38;5;124m\"\u001b[39m)\n\u001b[0;32m      2\u001b[0m num1 \u001b[38;5;241m=\u001b[39m \u001b[38;5;28mint\u001b[39m(num[\u001b[38;5;241m0\u001b[39m])\n\u001b[1;32m----> 3\u001b[0m num2 \u001b[38;5;241m=\u001b[39m \u001b[38;5;28;43mint\u001b[39;49m\u001b[43m(\u001b[49m\u001b[43mnum\u001b[49m\u001b[43m[\u001b[49m\u001b[38;5;241;43m1\u001b[39;49m\u001b[43m]\u001b[49m\u001b[43m)\u001b[49m\n\u001b[0;32m      5\u001b[0m Sum \u001b[38;5;241m=\u001b[39m num1\u001b[38;5;241m+\u001b[39mnum2\n\u001b[0;32m      6\u001b[0m Sub \u001b[38;5;241m=\u001b[39m num1\u001b[38;5;241m-\u001b[39mnum2\n",
      "\u001b[1;31mValueError\u001b[0m: invalid literal for int() with base 10: ','"
     ]
    }
   ],
   "source": [
    "num = input(\"input num1，num2:\")\n",
    "num1 = int(num[0])\n",
    "num2 = int(num[1])\n",
    "\n",
    "Sum = num1+num2\n",
    "Sub = num1-num2\n",
    "MultP = num1 * num2\n",
    "DiviS = num1 / num2\n",
    "\n",
    "print(\"두수의 합: \",Sum,\"두수의 빼기 결과: \",Sub,\"두수의 곱하기 결과: \",MultP,\"두수의 나누기 결과: \",DiviS)"
   ]
  },
  {
   "cell_type": "code",
   "execution_count": 11,
   "id": "1f749922",
   "metadata": {},
   "outputs": [
    {
     "data": {
      "text/plain": [
       "'3'"
      ]
     },
     "execution_count": 11,
     "metadata": {},
     "output_type": "execute_result"
    }
   ],
   "source": [
    "num[0]"
   ]
  },
  {
   "cell_type": "code",
   "execution_count": 12,
   "id": "299563bd",
   "metadata": {},
   "outputs": [
    {
     "data": {
      "text/plain": [
       "','"
      ]
     },
     "execution_count": 12,
     "metadata": {},
     "output_type": "execute_result"
    }
   ],
   "source": [
    "num[1]"
   ]
  },
  {
   "cell_type": "code",
   "execution_count": 13,
   "id": "8373758b",
   "metadata": {},
   "outputs": [
    {
     "name": "stdout",
     "output_type": "stream",
     "text": [
      "input num1，num2:3 5\n"
     ]
    },
    {
     "ename": "ValueError",
     "evalue": "invalid literal for int() with base 10: ' '",
     "output_type": "error",
     "traceback": [
      "\u001b[1;31m---------------------------------------------------------------------------\u001b[0m",
      "\u001b[1;31mValueError\u001b[0m                                Traceback (most recent call last)",
      "Cell \u001b[1;32mIn[13], line 3\u001b[0m\n\u001b[0;32m      1\u001b[0m num \u001b[38;5;241m=\u001b[39m \u001b[38;5;28minput\u001b[39m(\u001b[38;5;124m\"\u001b[39m\u001b[38;5;124minput num1，num2:\u001b[39m\u001b[38;5;124m\"\u001b[39m)\n\u001b[0;32m      2\u001b[0m num1 \u001b[38;5;241m=\u001b[39m \u001b[38;5;28mint\u001b[39m(num[\u001b[38;5;241m0\u001b[39m])\n\u001b[1;32m----> 3\u001b[0m num2 \u001b[38;5;241m=\u001b[39m \u001b[38;5;28;43mint\u001b[39;49m\u001b[43m(\u001b[49m\u001b[43mnum\u001b[49m\u001b[43m[\u001b[49m\u001b[38;5;241;43m1\u001b[39;49m\u001b[43m]\u001b[49m\u001b[43m)\u001b[49m\n\u001b[0;32m      5\u001b[0m Sum \u001b[38;5;241m=\u001b[39m num1\u001b[38;5;241m+\u001b[39mnum2\n\u001b[0;32m      6\u001b[0m Sub \u001b[38;5;241m=\u001b[39m num1\u001b[38;5;241m-\u001b[39mnum2\n",
      "\u001b[1;31mValueError\u001b[0m: invalid literal for int() with base 10: ' '"
     ]
    }
   ],
   "source": [
    "num = input(\"input num1，num2:\")\n",
    "num1 = int(num[0])\n",
    "num2 = int(num[1])\n",
    "\n",
    "Sum = num1+num2\n",
    "Sub = num1-num2\n",
    "MultP = num1 * num2\n",
    "DiviS = num1 / num2\n",
    "\n",
    "print(\"두수의 합: \",Sum,\"두수의 빼기 결과: \",Sub,\"두수의 곱하기 결과: \",MultP,\"두수의 나누기 결과: \",DiviS)"
   ]
  },
  {
   "cell_type": "code",
   "execution_count": 14,
   "id": "a65ff326",
   "metadata": {},
   "outputs": [
    {
     "name": "stdout",
     "output_type": "stream",
     "text": [
      "input num1，num2:3,5\n",
      "두수의 합:  8 두수의 빼기 결과:  -2 두수의 곱하기 결과:  15 두수의 나누기 결과:  0.6\n"
     ]
    }
   ],
   "source": [
    "num = input(\"input num1，num2:\")\n",
    "num1 = int(num[0])\n",
    "num2 = int(num[2])\n",
    "\n",
    "Sum = num1+num2\n",
    "Sub = num1-num2\n",
    "MultP = num1 * num2\n",
    "DiviS = num1 / num2\n",
    "\n",
    "print(\"두수의 합:\",Sum,\"; 두수의 빼기 결과:\",Sub,\"; 두수의 곱하기 결과:\",MultP,\"; 두수의 나누기 결과:\",DiviS)"
   ]
  },
  {
   "cell_type": "code",
   "execution_count": 15,
   "id": "29024105",
   "metadata": {},
   "outputs": [
    {
     "name": "stdout",
     "output_type": "stream",
     "text": [
      "input num1，num2:3,5\n",
      "두수의 합: 8 ; 두수의 빼기 결과: -2 ; 두수의 곱하기 결과: 15 ; 두수의 나누기 결과: 0.6\n"
     ]
    }
   ],
   "source": [
    "num = input(\"input num1，num2:\")\n",
    "num1 = int(num[0])\n",
    "num2 = int(num[2])\n",
    "\n",
    "Sum = num1+num2\n",
    "Sub = num1-num2\n",
    "MultP = num1 * num2\n",
    "DiviS = num1 / num2\n",
    "\n",
    "print(\"두수의 합:\",Sum,\"; 두수의 빼기 결과:\",Sub,\"; 두수의 곱하기 결과:\",MultP,\"; 두수의 나누기 결과:\",DiviS)"
   ]
  },
  {
   "cell_type": "code",
   "execution_count": 16,
   "id": "3b0b98cc",
   "metadata": {},
   "outputs": [
    {
     "name": "stdout",
     "output_type": "stream",
     "text": [
      "input num1，num2:3,5\n",
      "두수의 합: 8 ; 두수의 빼기 결과: -2 ; 두수의 곱하기 결과: 15 ; 두수의 나누기 결과: 0.6\n"
     ]
    }
   ],
   "source": [
    "num = input(\"input num1，num2:\")\n",
    "num1 = int(num[0])\n",
    "num2 = int(num[-1])\n",
    "\n",
    "Sum = num1+num2\n",
    "Sub = num1-num2\n",
    "MultP = num1 * num2\n",
    "DiviS = num1 / num2\n",
    "\n",
    "print(\"두수의 합:\",Sum,\"; 두수의 빼기 결과:\",Sub,\"; 두수의 곱하기 결과:\",MultP,\"; 두수의 나누기 결과:\",DiviS)"
   ]
  },
  {
   "cell_type": "code",
   "execution_count": 17,
   "id": "215615d5",
   "metadata": {},
   "outputs": [
    {
     "name": "stdout",
     "output_type": "stream",
     "text": [
      "input num1，num2:3 5\n",
      "두수의 합: 8 ; 두수의 빼기 결과: -2 ; 두수의 곱하기 결과: 15 ; 두수의 나누기 결과: 0.6\n"
     ]
    }
   ],
   "source": [
    "num = input(\"input num1，num2:\")\n",
    "num1 = int(num[0])\n",
    "num2 = int(num[-1])\n",
    "\n",
    "Sum = num1+num2\n",
    "Sub = num1-num2\n",
    "MultP = num1 * num2\n",
    "DiviS = num1 / num2\n",
    "\n",
    "print(\"두수의 합:\",Sum,\"; 두수의 빼기 결과:\",Sub,\"; 두수의 곱하기 결과:\",MultP,\"; 두수의 나누기 결과:\",DiviS)"
   ]
  },
  {
   "cell_type": "code",
   "execution_count": 20,
   "id": "d146f08e",
   "metadata": {},
   "outputs": [
    {
     "ename": "IndentationError",
     "evalue": "unexpected indent (164833981.py, line 2)",
     "output_type": "error",
     "traceback": [
      "\u001b[1;36m  Cell \u001b[1;32mIn[20], line 2\u001b[1;36m\u001b[0m\n\u001b[1;33m    print(\"Woe!\")\u001b[0m\n\u001b[1;37m    ^\u001b[0m\n\u001b[1;31mIndentationError\u001b[0m\u001b[1;31m:\u001b[0m unexpected indent\n"
     ]
    }
   ],
   "source": [
    "diater = True\n",
    "    print(\"Woe!\")\n",
    "else:  \n",
    "    print(\"Whee!\")"
   ]
  },
  {
   "cell_type": "code",
   "execution_count": 21,
   "id": "7c02c55f",
   "metadata": {},
   "outputs": [
    {
     "ename": "IndentationError",
     "evalue": "unexpected indent (164833981.py, line 2)",
     "output_type": "error",
     "traceback": [
      "\u001b[1;36m  Cell \u001b[1;32mIn[21], line 2\u001b[1;36m\u001b[0m\n\u001b[1;33m    print(\"Woe!\")\u001b[0m\n\u001b[1;37m    ^\u001b[0m\n\u001b[1;31mIndentationError\u001b[0m\u001b[1;31m:\u001b[0m unexpected indent\n"
     ]
    }
   ],
   "source": [
    "diater = True\n",
    "    print(\"Woe!\")\n",
    "else:  \n",
    "    print(\"Whee!\")"
   ]
  },
  {
   "cell_type": "code",
   "execution_count": 22,
   "id": "3169cdb3",
   "metadata": {},
   "outputs": [
    {
     "name": "stdout",
     "output_type": "stream",
     "text": [
      "Woe!\n"
     ]
    }
   ],
   "source": [
    "diater = True\n",
    "if diater:\n",
    "    print(\"Woe!\")\n",
    "else:  \n",
    "    print(\"Whee!\")"
   ]
  },
  {
   "cell_type": "code",
   "execution_count": 25,
   "id": "256a80e3",
   "metadata": {},
   "outputs": [
    {
     "name": "stdout",
     "output_type": "stream",
     "text": [
      "It's a yeti.\n"
     ]
    }
   ],
   "source": [
    "furry = True\n",
    "large = True\n",
    "if furry:\n",
    "    if large:\n",
    "        print(\"It's a yeti.\")\n",
    "    else:\n",
    "        print(\"It's a cat!\")\n",
    "else:\n",
    "    if large:\n",
    "        print(\"It's a whale!\")\n",
    "    else:\n",
    "        print(\"It's a human. or a hairless cat.\")"
   ]
  },
  {
   "cell_type": "code",
   "execution_count": 44,
   "id": "112fe554",
   "metadata": {},
   "outputs": [
    {
     "name": "stdout",
     "output_type": "stream",
     "text": [
      "버스를 타고,  1000 원 남아요.\n"
     ]
    }
   ],
   "source": [
    "cash = 3000\n",
    "coffee = 1000\n",
    "bus = 1000\n",
    "taxi = 2000\n",
    "tran = bus\n",
    "\n",
    "if tran == bus:\n",
    "    cash2 = cash - coffee - bus\n",
    "    print(\"버스를 타고, \",cash2, \"원 남아요.\")\n",
    "else:\n",
    "    cash2 = cash - coffee - taxi\n",
    "    print(\"택시를 타고, \",cash2, \"원 남아요.\")    "
   ]
  },
  {
   "cell_type": "code",
   "execution_count": 46,
   "id": "f0f9acc6",
   "metadata": {},
   "outputs": [
    {
     "name": "stdout",
     "output_type": "stream",
     "text": [
      "택시를 타고,  0 원 남아요.\n"
     ]
    }
   ],
   "source": [
    "cash = 3000\n",
    "coffee = 1000\n",
    "bus = 1000\n",
    "taxi = 2000\n",
    "tran = taxi\n",
    "\n",
    "if tran == bus:\n",
    "    cash2 = cash - coffee - bus\n",
    "    print(\"버스를 타고, \",cash2, \"원 남아요.\")\n",
    "elif tran == taxi:\n",
    "    cash2 = cash - coffee - taxi\n",
    "    print(\"택시를 타고, \",cash2, \"원 남아요.\")  "
   ]
  },
  {
   "cell_type": "code",
   "execution_count": 49,
   "id": "ed27d9b1",
   "metadata": {},
   "outputs": [
    {
     "name": "stdout",
     "output_type": "stream",
     "text": [
      "교통수단을 선택하세요!(bus or taxi)taxi\n",
      "택시를 타고,  0 원 남아요.\n"
     ]
    }
   ],
   "source": [
    "cash = 3000\n",
    "coffee = 1000\n",
    "bus = 1000\n",
    "taxi = 2000\n",
    "tran = input(\"교통수단을 선택하세요!(bus or taxi)\")\n",
    "\n",
    "if tran == \"bus\":\n",
    "    cash2 = cash - coffee - bus\n",
    "    print(\"버스를 타고, \",cash2, \"원 남아요.\")\n",
    "elif tran == \"taxi\":\n",
    "    cash2 = cash - coffee - taxi\n",
    "    print(\"택시를 타고, \",cash2, \"원 남아요.\")  "
   ]
  },
  {
   "cell_type": "code",
   "execution_count": 54,
   "id": "94bff355",
   "metadata": {},
   "outputs": [
    {
     "name": "stdout",
     "output_type": "stream",
     "text": [
      "커피를 샀나요? (Y/N):N\n",
      "택시를 타고 가세요!\n"
     ]
    }
   ],
   "source": [
    "money = 3000\n",
    "coffee = 1500\n",
    "dec = input(\"커피를 샀나요? (Y/N):\")\n",
    "\n",
    "if dec == \"Y\":\n",
    "    money = money - coffee\n",
    "    if money >= 2000:\n",
    "        print(\"택시를 타고 가세요!\")\n",
    "    elif money < 1000:\n",
    "        print(\"커피를 마셨으니 걸어 가세요!\")\n",
    "    else:\n",
    "        print(\"버스를 타고 가세요!\")\n",
    "elif dec == \"N\":\n",
    "    if money >= 2000:\n",
    "        print(\"택시를 타고 가세요!\")\n",
    "    elif money < 1000:\n",
    "        print(\"돈이 부족해서 걸어 가세요!\")\n",
    "    else:\n",
    "        print(\"버스를 타고 가세요!\")     "
   ]
  },
  {
   "cell_type": "code",
   "execution_count": 65,
   "id": "7c88a936",
   "metadata": {},
   "outputs": [
    {
     "name": "stdout",
     "output_type": "stream",
     "text": [
      "너 주머니에 얼마있니? :1500\n",
      "커피를 샀나요? (Y/N) : N\n",
      "버스타고 가세요\n"
     ]
    }
   ],
   "source": [
    "money = int(input(\"너 주머니에 얼마있니? :\"))\n",
    "coffee = 1500\n",
    "\n",
    "if money < 1000:\n",
    "        print(\"돈없어 암것도 하지마....\")\n",
    "elif money < 1500:\n",
    "        print(\"커피를 못 마시고 버스를 타고 가세요\")\n",
    "else:\n",
    "    dec = input(\"커피를 샀나요? (Y/N) : \")\n",
    "    if dec == \"Y\" :\n",
    "        money = money - coffee\n",
    "        if money >= 2000 :\n",
    "            print(\"Taxi 타고가세요\")\n",
    "        elif money >= 1000 : \n",
    "            print(\"버스타고 가세요\")\n",
    "        else:\n",
    "            print(\"커피 사먹으면 니 다리가 고생해!!!!\")\n",
    "    else :\n",
    "        if dec == \"N\" :\n",
    "            if money >= 2000 :\n",
    "                print(\"Taxi 타고가세요\")\n",
    "            else:\n",
    "                print(\"버스타고 가세요\")\n",
    "        else:\n",
    "            print(\"잘못입력하셨어요........\")"
   ]
  },
  {
   "cell_type": "code",
   "execution_count": 74,
   "id": "2d22854b",
   "metadata": {},
   "outputs": [
    {
     "name": "stdout",
     "output_type": "stream",
     "text": [
      "두수의 더하기 하세요: 3 + 4\n",
      "두수의 더하기 결과는: 7\n"
     ]
    }
   ],
   "source": [
    "plus = input(\"두수의 더하기 하세요: \")\n",
    "result = int(plus[0])+int(plus[-1])\n",
    "\n",
    "print(\"두수의 더하기 결과는:\", result)"
   ]
  },
  {
   "cell_type": "code",
   "execution_count": 66,
   "id": "9ddb8b92",
   "metadata": {},
   "outputs": [
    {
     "name": "stdout",
     "output_type": "stream",
     "text": [
      "3+4\n"
     ]
    },
    {
     "data": {
      "text/plain": [
       "'3+4'"
      ]
     },
     "execution_count": 66,
     "metadata": {},
     "output_type": "execute_result"
    }
   ],
   "source": [
    "input()"
   ]
  },
  {
   "cell_type": "code",
   "execution_count": 67,
   "id": "41286ab2",
   "metadata": {},
   "outputs": [
    {
     "name": "stdout",
     "output_type": "stream",
     "text": [
      "3+4\n"
     ]
    }
   ],
   "source": [
    "a=input()"
   ]
  },
  {
   "cell_type": "code",
   "execution_count": 68,
   "id": "78db6a2e",
   "metadata": {},
   "outputs": [
    {
     "data": {
      "text/plain": [
       "'+'"
      ]
     },
     "execution_count": 68,
     "metadata": {},
     "output_type": "execute_result"
    }
   ],
   "source": [
    "a[1]"
   ]
  },
  {
   "cell_type": "code",
   "execution_count": 69,
   "id": "c9cc65ce",
   "metadata": {},
   "outputs": [
    {
     "data": {
      "text/plain": [
       "str"
      ]
     },
     "execution_count": 69,
     "metadata": {},
     "output_type": "execute_result"
    }
   ],
   "source": [
    "type(a[1])"
   ]
  },
  {
   "cell_type": "code",
   "execution_count": null,
   "id": "9f8f1874",
   "metadata": {},
   "outputs": [],
   "source": []
  }
 ],
 "metadata": {
  "kernelspec": {
   "display_name": "Python 3 (ipykernel)",
   "language": "python",
   "name": "python3"
  },
  "language_info": {
   "codemirror_mode": {
    "name": "ipython",
    "version": 3
   },
   "file_extension": ".py",
   "mimetype": "text/x-python",
   "name": "python",
   "nbconvert_exporter": "python",
   "pygments_lexer": "ipython3",
   "version": "3.10.9"
  }
 },
 "nbformat": 4,
 "nbformat_minor": 5
}
