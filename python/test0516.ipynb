{
 "cells": [
  {
   "cell_type": "code",
   "execution_count": 2,
   "id": "a7e516f3",
   "metadata": {},
   "outputs": [
    {
     "name": "stdout",
     "output_type": "stream",
     "text": [
      "<zip object at 0x0000015238106D00>\n",
      "1값은 a입니다.\n",
      "2값은 b입니다.\n",
      "3값은 c입니다.\n"
     ]
    }
   ],
   "source": [
    "num = [1, 2, 3]\n",
    "ch = ['a', 'b', 'c', 'd']\n",
    "res = zip(num, ch)\n",
    "print(res)\n",
    "for n,c in res:\n",
    "    print('%d값은 %s입니다.' %(n, c))"
   ]
  },
  {
   "cell_type": "code",
   "execution_count": 3,
   "id": "95fb20a7",
   "metadata": {},
   "outputs": [
    {
     "name": "stdout",
     "output_type": "stream",
     "text": [
      "[1, 2, 3, 4, 5]\n"
     ]
    }
   ],
   "source": [
    "number_list = [number for number in range(1, 6)]\n",
    "print(number_list)"
   ]
  },
  {
   "cell_type": "code",
   "execution_count": 4,
   "id": "734ecc5d",
   "metadata": {},
   "outputs": [
    {
     "name": "stdout",
     "output_type": "stream",
     "text": [
      "[0, 1, 2, 3, 4]\n"
     ]
    }
   ],
   "source": [
    "number_list = [number-1 for number in range(1, 6)]\n",
    "print(number_list)"
   ]
  },
  {
   "cell_type": "code",
   "execution_count": 6,
   "id": "c1862fae",
   "metadata": {},
   "outputs": [
    {
     "name": "stdout",
     "output_type": "stream",
     "text": [
      "[1, 3, 5]\n"
     ]
    }
   ],
   "source": [
    "a_list = [number for number in range(1, 6) if number % 2 == 1]\n",
    "print(a_list)"
   ]
  },
  {
   "cell_type": "code",
   "execution_count": 7,
   "id": "2003f216",
   "metadata": {},
   "outputs": [
    {
     "name": "stdout",
     "output_type": "stream",
     "text": [
      "1 1\n",
      "1 2\n",
      "2 1\n",
      "2 2\n",
      "3 1\n",
      "3 2\n"
     ]
    }
   ],
   "source": [
    "rows = range(1, 4)\n",
    "cols = range(1, 3)\n",
    "for row in rows:\n",
    "    for col in cols:\n",
    "        print(row, col)"
   ]
  },
  {
   "cell_type": "code",
   "execution_count": 14,
   "id": "e52b4900",
   "metadata": {},
   "outputs": [
    {
     "name": "stdout",
     "output_type": "stream",
     "text": [
      "[(1, 1), (1, 2), (2, 1), (2, 2), (3, 1), (3, 2)]\n",
      "(1, 1)\n",
      "(1, 2)\n",
      "(2, 1)\n",
      "(2, 2)\n",
      "(3, 1)\n",
      "(3, 2)\n"
     ]
    }
   ],
   "source": [
    "rows = range(1, 4)\n",
    "cols = range(1, 3)\n",
    "cells = [(row, col) for row in rows for col in cols]\n",
    "print(cells)           \n",
    "for cell in cells:\n",
    "    print(cell)"
   ]
  },
  {
   "cell_type": "code",
   "execution_count": 19,
   "id": "9f192ced",
   "metadata": {},
   "outputs": [
    {
     "name": "stdout",
     "output_type": "stream",
     "text": [
      "[[1, 2, 3], [3, 4, [1, 5]], [5, 6, 7]]\n",
      "[1, 2, 3]\n",
      "2\n",
      "4\n",
      "6\n",
      "5\n"
     ]
    }
   ],
   "source": [
    "b1_list = [1, 2, 3]\n",
    "b2_list = [3, 4, [1, 5]]\n",
    "b3_list = [5, 6, 7]\n",
    "b_list = [b1_list, b2_list, b3_list]\n",
    "print(b_list)\n",
    "print(b_list[0])\n",
    "print(b_list[0][1])\n",
    "print(b_list[1][1])\n",
    "print(b_list[2][1])\n",
    "print(b_list[1][2][1])"
   ]
  },
  {
   "cell_type": "code",
   "execution_count": 22,
   "id": "1ea0bc55",
   "metadata": {},
   "outputs": [
    {
     "name": "stdout",
     "output_type": "stream",
     "text": [
      "{'sad': '우울', 'happy': '기쁨', 'angry': '화남'}\n",
      "{0: '우울', 1: '기쁨', 2: '화남'}\n"
     ]
    }
   ],
   "source": [
    "feel = {'sad': '우울', 'happy': '기쁨', 'angry': '화남'}\n",
    "feel_num = {0: '우울', 1: '기쁨', 2: '화남'}\n",
    "print(feel)\n",
    "print(feel_num)"
   ]
  },
  {
   "cell_type": "code",
   "execution_count": 24,
   "id": "c83f3d49",
   "metadata": {},
   "outputs": [
    {
     "name": "stdout",
     "output_type": "stream",
     "text": [
      "{'sad': '우울', 'happy': '기쁨', 'angry': '화남'}\n"
     ]
    }
   ],
   "source": [
    "feel = [['sad', '우울'], ['happy', '기쁨'], ['angry', '화남']]\n",
    "print(dict(feel))"
   ]
  },
  {
   "cell_type": "code",
   "execution_count": 25,
   "id": "26437e31",
   "metadata": {},
   "outputs": [
    {
     "name": "stdout",
     "output_type": "stream",
     "text": [
      "{'sad': '우울', 'happy': '기쁨', 'angry': '화남'}\n"
     ]
    }
   ],
   "source": [
    "feel = dict(sad = '우울', happy = '기쁨', angry = '화남')\n",
    "print(feel)"
   ]
  },
  {
   "cell_type": "code",
   "execution_count": 34,
   "id": "f61e2048",
   "metadata": {},
   "outputs": [
    {
     "name": "stdout",
     "output_type": "stream",
     "text": [
      "{3: [4, 5], 1: 5}\n",
      "{3: 11111, 1: 5}\n"
     ]
    }
   ],
   "source": [
    "b_list = [[3, [4, 5]], [1, 5]]\n",
    "dict_b = dict(b_list)\n",
    "print(dict_b)\n",
    "dict_b[3] = 11111\n",
    "print(dict_b)"
   ]
  },
  {
   "cell_type": "code",
   "execution_count": 39,
   "id": "a37d73b1",
   "metadata": {},
   "outputs": [
    {
     "name": "stdout",
     "output_type": "stream",
     "text": [
      "{'sam': 2, 'jhon': 'second'}\n",
      "{'sam': 'jhon', 'jhon': 'second'}\n",
      "second\n",
      "second\n",
      "dict_keys(['sam', 'jhon'])\n"
     ]
    }
   ],
   "source": [
    "a_dict = {'sam': 'first', 'jhon': 'second'}\n",
    "a_dict['sam'] = 2\n",
    "print(a_dict)\n",
    "a_dict['sam'] = 'jhon'\n",
    "print(a_dict)\n",
    "print(a_dict['jhon'])\n",
    "print(a_dict.get('jhon'))\n",
    "print(a_dict.keys())"
   ]
  },
  {
   "cell_type": "code",
   "execution_count": 45,
   "id": "3e421ef6",
   "metadata": {},
   "outputs": [
    {
     "name": "stdout",
     "output_type": "stream",
     "text": [
      "{'Chapman': 'Graham', 'Cleese': 'John', 'Gilliam': 'Terry'}\n",
      "{'Chapman': 'Graham', 'Cleese': 'John', 'Gilliam': 'Terry', 'marx': 'Groucho'}\n",
      "{'Chapman': 'Graham', 'Cleese': 'John', 'Gilliam': 'Terry'}\n",
      "Terry\n",
      "{'Chapman': 'Graham', 'Cleese': 'John'}\n"
     ]
    }
   ],
   "source": [
    "pythons = {\n",
    "    'Chapman': 'Graham',\n",
    "    'Cleese': 'John',\n",
    "    'Gilliam': 'Terry'\n",
    "}\n",
    "print(pythons)\n",
    "\n",
    "other = {'marx': 'Groucho'}\n",
    "pythons.update(other)\n",
    "print(pythons)\n",
    "\n",
    "del pythons['marx']\n",
    "print(pythons)\n",
    "\n",
    "print(pythons.pop('Gilliam'))\n",
    "print(pythons)"
   ]
  },
  {
   "cell_type": "code",
   "execution_count": 49,
   "id": "1ad1e4bf",
   "metadata": {},
   "outputs": [
    {
     "name": "stdout",
     "output_type": "stream",
     "text": [
      "{'a': 1, 'b': 'platpus'}\n",
      "True\n",
      "False\n",
      "{'b': 'platpus', 'c': 3}\n",
      "{'b': 'platpus', 'c': 3}\n",
      "{'b': 'platpus', 'c': 3, 'd': 4}\n",
      "{'b': 'platpus', 'c': 3, 'd': 4}\n"
     ]
    }
   ],
   "source": [
    "first = {'a': 1, 'b': 2}\n",
    "second = {'b': 'platpus'}\n",
    "first.update(second)\n",
    "print(first)\n",
    "\n",
    "print('a' in first)\n",
    "print(1 in first)\n",
    "\n",
    "third = second\n",
    "second['c'] = 3\n",
    "print(second)\n",
    "print(third)\n",
    "\n",
    "third['d'] = 4\n",
    "print(third)\n",
    "print(second)"
   ]
  },
  {
   "cell_type": "code",
   "execution_count": 54,
   "id": "15ab5077",
   "metadata": {},
   "outputs": [
    {
     "name": "stdout",
     "output_type": "stream",
     "text": [
      "{'green': 'go', 'yellow': 'go faster', 'red': ['stop', 'smile']}\n",
      "{'green': 'go', 'yellow': 'go faster', 'red': ['stop', 'smile']}\n",
      "{'green': 'go', 'yellow': 'go faster', 'red': ['stop', 'sweat']}\n",
      "{'green': 'go', 'yellow': 'go faster', 'red': ['stop', 'sweat']}\n",
      "{'green': 'go', 'yellow': 'go faster', 'red': ['stop', 'sweat']}\n",
      "{'green': 'go', 'yellow': 'go faster', 'red': ['stop', 'smile']}\n",
      "{'green': 'go', 'yellow': 'go faster', 'red': ['stop', 'sweat']}\n"
     ]
    }
   ],
   "source": [
    "signals = {'green': 'go', 'yellow': 'go faster', 'red': ['stop', 'smile']}\n",
    "signals_copy = signals.copy()\n",
    "print(signals)\n",
    "print(signals_copy)\n",
    "\n",
    "signals['red'][1] = 'sweat'\n",
    "print(signals)\n",
    "print(signals_copy)\n",
    "\n",
    "import copy\n",
    "signals_deepcopy = copy.deepcopy(signals)\n",
    "print(signals_deepcopy)\n",
    "\n",
    "signals['red'][1] = 'smile'\n",
    "print(signals)\n",
    "print(signals_deepcopy)"
   ]
  },
  {
   "cell_type": "code",
   "execution_count": 67,
   "id": "80f44d59",
   "metadata": {},
   "outputs": [
    {
     "name": "stdout",
     "output_type": "stream",
     "text": [
      "{'green': 'goes', 'yellow': 'go faster', 'red': 'smile for the camera', 'blue': 'confuse everyone'}\n",
      "{'green': 'go', 'yellow': 'go faster', 'red': 'smile for the camera'}\n",
      "{'green': 'goes', 'yellow': 'go faster', 'red': ['stop', 'smile'], 'blue': 'confuse everyone'}\n",
      "{'green': 'go', 'yellow': 'go faster', 'red': 'smile for the camera'}\n",
      "{'green': 'goes', 'yellow': 'go faster', 'red': 'smile for the camera', 'blue': 'confuse everyone'}\n",
      "{'green': 'goes', 'yellow': 'go faster', 'red': 'smile for the camera', 'blue': 'confuse everyone'}\n"
     ]
    }
   ],
   "source": [
    "signals = {'green': 'go', 'yellow': 'go faster', 'red': 'smile for the camera'}\n",
    "original_signals = signals.copy()\n",
    "signals['blue'] = 'confuse everyone'\n",
    "signals['green'] = 'goes'\n",
    "print(signals)\n",
    "print(original_signals)\n",
    "\n",
    "import copy\n",
    "signals_deepcopy = copy.deepcopy(signals)\n",
    "original2_signals = signals.copy()\n",
    "signals['red'] = ['stop', 'smile']\n",
    "print(signals)\n",
    "print(original_signals)\n",
    "print(original2_signals)\n",
    "print(signals_deepcopy)"
   ]
  },
  {
   "cell_type": "code",
   "execution_count": 56,
   "id": "9053f06d",
   "metadata": {},
   "outputs": [
    {
     "name": "stdout",
     "output_type": "stream",
     "text": [
      "{'l': 1, 'e': 2, 't': 2, 'r': 1, 's': 1}\n"
     ]
    }
   ],
   "source": [
    "word = 'letters'\n",
    "letter_counts = {letter: word.count(letter) for letter in word}\n",
    "print(letter_counts)"
   ]
  },
  {
   "cell_type": "code",
   "execution_count": 59,
   "id": "1e959b0a",
   "metadata": {},
   "outputs": [
    {
     "name": "stdout",
     "output_type": "stream",
     "text": [
      "{'o': 4, 'a': 2, 'i': 1, 'e': 1}\n"
     ]
    }
   ],
   "source": [
    "vowels = 'aeiou'\n",
    "word = 'onomatopoeia'\n",
    "letter_counts = {letter: word.count(letter) for letter in set(word) if letter in vowels}\n",
    "print(letter_counts)"
   ]
  },
  {
   "cell_type": "code",
   "execution_count": 66,
   "id": "e9a9a08a",
   "metadata": {},
   "outputs": [
    {
     "name": "stdout",
     "output_type": "stream",
     "text": [
      "quack\n"
     ]
    }
   ],
   "source": [
    "def make_a_sound():\n",
    "    print('quack')\n",
    "\n",
    "make_a_sound()"
   ]
  },
  {
   "cell_type": "code",
   "execution_count": 70,
   "id": "c62b0bb7",
   "metadata": {},
   "outputs": [
    {
     "name": "stdout",
     "output_type": "stream",
     "text": [
      "Rumplestiltskin Rumplestiltskin\n"
     ]
    }
   ],
   "source": [
    "def echo(anything):\n",
    "    return anything + ' ' + anything\n",
    "\n",
    "print(echo('Rumplestiltskin'))"
   ]
  },
  {
   "cell_type": "code",
   "execution_count": 73,
   "id": "935de9ed",
   "metadata": {},
   "outputs": [
    {
     "name": "stdout",
     "output_type": "stream",
     "text": [
      "8\n",
      "lovecat\n"
     ]
    }
   ],
   "source": [
    "def add(a, b):\n",
    "    return a+b\n",
    "\n",
    "print(add(3, 5))\n",
    "print(add('love', 'cat'))"
   ]
  },
  {
   "cell_type": "code",
   "execution_count": 79,
   "id": "ebec8a28",
   "metadata": {},
   "outputs": [
    {
     "name": "stdout",
     "output_type": "stream",
     "text": [
      "-2\n"
     ]
    }
   ],
   "source": [
    "def sub(a, b):\n",
    "    return a-b\n",
    "\n",
    "print(sub(3, 5))      # 字符串减法运算符'-'不可用"
   ]
  },
  {
   "cell_type": "code",
   "execution_count": 91,
   "id": "0c7dfb31",
   "metadata": {},
   "outputs": [
    {
     "name": "stdout",
     "output_type": "stream",
     "text": [
      "ID: tinylwn\n",
      "비번: 123456\n",
      "로그인 되었습니다.\n"
     ]
    }
   ],
   "source": [
    "def input_data():\n",
    "    input_id = input(\"ID: \")\n",
    "    input_pw = input(\"비번: \")\n",
    "    return input_id, input_pw\n",
    "\n",
    "ID = \"tinylwn\"\n",
    "PW = \"123456\"\n",
    "count = 1\n",
    "login = False\n",
    "\n",
    "while count <= 5:\n",
    "    input_id, input_pw = input_data()\n",
    "    if (input_id == ID) and (input_pw == PW):\n",
    "        print(\"로그인 되었습니다.\")\n",
    "        login = True\n",
    "        break\n",
    "    else:\n",
    "        print(f'ID와 비번이 {count}번 틀렸습니다.')\n",
    "        count+=1\n",
    "    \n",
    "if login == False:\n",
    "    print(\"ID와 비번 5번이나 틀렸습니다.  한 시간 후에 다시 해 보세요!\") "
   ]
  },
  {
   "cell_type": "code",
   "execution_count": 93,
   "id": "d5aa5b83",
   "metadata": {},
   "outputs": [
    {
     "name": "stdout",
     "output_type": "stream",
     "text": [
      "['b']\n"
     ]
    }
   ],
   "source": [
    "def works(arg):\n",
    "    result = []\n",
    "    result.append(arg)\n",
    "    return result\n",
    "\n",
    "res = works('a')\n",
    "res = works('b')\n",
    "print(res)"
   ]
  },
  {
   "cell_type": "code",
   "execution_count": 98,
   "id": "b627a84c",
   "metadata": {},
   "outputs": [
    {
     "name": "stdout",
     "output_type": "stream",
     "text": [
      "['a']\n",
      "['a', 'b']\n",
      "['a']\n",
      "['b']\n"
     ]
    }
   ],
   "source": [
    "def buggy(arg, result=[]):\n",
    "    result.append(arg)\n",
    "    print(result)\n",
    " \n",
    "buggy('a')\n",
    "buggy('b')\n",
    "buggy('a',[])\n",
    "buggy('b',[])"
   ]
  },
  {
   "cell_type": "code",
   "execution_count": 99,
   "id": "472a384c",
   "metadata": {},
   "outputs": [
    {
     "name": "stdout",
     "output_type": "stream",
     "text": [
      "['a']\n",
      "['b']\n"
     ]
    }
   ],
   "source": [
    "def nonbuggy(arg, result=None):\n",
    "    if result is None:\n",
    "        result = []\n",
    "    result.append(arg)\n",
    "    print(result)\n",
    "    \n",
    "nonbuggy('a')\n",
    "nonbuggy('b')"
   ]
  },
  {
   "cell_type": "code",
   "execution_count": 101,
   "id": "769807f5",
   "metadata": {},
   "outputs": [
    {
     "name": "stdout",
     "output_type": "stream",
     "text": [
      "Positional tuple: (1,)\n",
      "Positional tuple: (3, 2, 1, 'wait', 'uh...')\n"
     ]
    }
   ],
   "source": [
    "def print_args(*args):\n",
    "    print('Positional tuple:', args)\n",
    "\n",
    "print_args(1)\n",
    "print_args(3, 2, 1, 'wait', 'uh...')"
   ]
  },
  {
   "cell_type": "code",
   "execution_count": 103,
   "id": "d368539c",
   "metadata": {},
   "outputs": [
    {
     "name": "stdout",
     "output_type": "stream",
     "text": [
      "keyword arguments: {'wine': 'merlot', 'entree': 'mutton'}\n"
     ]
    }
   ],
   "source": [
    "def print_kwargs(**kwargs):\n",
    "    print('keyword arguments:', kwargs)\n",
    "\n",
    "print_kwargs(wine='merlot', entree='mutton')"
   ]
  },
  {
   "cell_type": "code",
   "execution_count": 105,
   "id": "25c6f2a0",
   "metadata": {},
   "outputs": [
    {
     "name": "stdout",
     "output_type": "stream",
     "text": [
      "a\n",
      "b\n",
      "c\n",
      "d\n",
      "e\n",
      "f\n",
      "e\n",
      "f\n",
      "a\n",
      "b\n"
     ]
    }
   ],
   "source": [
    "def print_data(data, *, start=0, end=100):\n",
    "    for value in (data[start:end]):\n",
    "        print(value)\n",
    "\n",
    "data=['a', 'b', 'c', 'd', 'e', 'f']\n",
    "print_data(data)\n",
    "\n",
    "print_data(data, start=4)\n",
    "\n",
    "print_data(data, end=2)"
   ]
  },
  {
   "cell_type": "code",
   "execution_count": 110,
   "id": "932bcf2f",
   "metadata": {},
   "outputs": [
    {
     "name": "stdout",
     "output_type": "stream",
     "text": [
      "Help on function echo in module __main__:\n",
      "\n",
      "echo(anything)\n",
      "    echo returns its iuput argument\n",
      "\n",
      "echo returns its iuput argument\n"
     ]
    }
   ],
   "source": [
    "def echo(anything):\n",
    "    'echo returns its iuput argument'\n",
    "    return anything\n",
    "\n",
    "help(echo)\n",
    "\n",
    "print(echo.__doc__)"
   ]
  },
  {
   "cell_type": "code",
   "execution_count": 112,
   "id": "674e61e5",
   "metadata": {},
   "outputs": [
    {
     "name": "stdout",
     "output_type": "stream",
     "text": [
      "<function knights2.<locals>.inner2 at 0x0000015239D23400>\n",
      "<function knights2.<locals>.inner2 at 0x0000015239DED2D0>\n",
      "We are the knights who say: 'Duck'\n",
      "We are the knights who say: 'Hasenpfeffer'\n"
     ]
    }
   ],
   "source": [
    "def knights2(saying):\n",
    "    def inner2():\n",
    "        return \"We are the knights who say: '%s'\" % saying\n",
    "    return inner2\n",
    "\n",
    "a=knights2('Duck')\n",
    "b=knights2('Hasenpfeffer')\n",
    "\n",
    "print(a)\n",
    "print(b)\n",
    "print(a())\n",
    "print(b())      "
   ]
  },
  {
   "cell_type": "code",
   "execution_count": null,
   "id": "5e81e565",
   "metadata": {},
   "outputs": [],
   "source": []
  }
 ],
 "metadata": {
  "kernelspec": {
   "display_name": "Python 3 (ipykernel)",
   "language": "python",
   "name": "python3"
  },
  "language_info": {
   "codemirror_mode": {
    "name": "ipython",
    "version": 3
   },
   "file_extension": ".py",
   "mimetype": "text/x-python",
   "name": "python",
   "nbconvert_exporter": "python",
   "pygments_lexer": "ipython3",
   "version": "3.10.9"
  }
 },
 "nbformat": 4,
 "nbformat_minor": 5
}
