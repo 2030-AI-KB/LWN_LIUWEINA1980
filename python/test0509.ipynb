{
 "cells": [
  {
   "cell_type": "code",
   "execution_count": 1,
   "id": "3e90a953",
   "metadata": {},
   "outputs": [
    {
     "name": "stdout",
     "output_type": "stream",
     "text": [
      "o is a vowel\n"
     ]
    }
   ],
   "source": [
    "letter = 'o'\n",
    "if letter == 'a' or letter == 'e' or letter =='i' \\\n",
    "    or letter == \"o\" or letter == 'u':\n",
    "    print(letter, 'is a vowel')\n",
    "else:\n",
    "    print(letter, 'is not a vowel')"
   ]
  },
  {
   "cell_type": "code",
   "execution_count": 2,
   "id": "105d52b7",
   "metadata": {},
   "outputs": [
    {
     "name": "stdout",
     "output_type": "stream",
     "text": [
      "o is a vowel\n"
     ]
    }
   ],
   "source": [
    "vowels_string = 'aeiou'\n",
    "letter = 'o'\n",
    "if letter in vowels_string:\n",
    "    print(letter, \"is a vowel\")"
   ]
  },
  {
   "cell_type": "code",
   "execution_count": 3,
   "id": "4374221d",
   "metadata": {},
   "outputs": [
    {
     "name": "stdout",
     "output_type": "stream",
     "text": [
      "o is a vowel\n"
     ]
    }
   ],
   "source": [
    "letter = 'o'\n",
    "vowel_set = {'a', 'e', 'i', 'o', 'u'}\n",
    "if letter in vowel_set:\n",
    "     print(letter, \"is a vowel\")"
   ]
  },
  {
   "cell_type": "code",
   "execution_count": 4,
   "id": "c3028f3c",
   "metadata": {},
   "outputs": [
    {
     "name": "stdout",
     "output_type": "stream",
     "text": [
      "o is a vowel\n"
     ]
    }
   ],
   "source": [
    "letter = 'o'\n",
    "vowel_list = ['a', 'e', 'i', 'o', 'u']\n",
    "if letter in vowel_list:\n",
    "     print(letter, \"is a vowel\")"
   ]
  },
  {
   "cell_type": "code",
   "execution_count": 6,
   "id": "5cf7673e",
   "metadata": {},
   "outputs": [
    {
     "name": "stdout",
     "output_type": "stream",
     "text": [
      "o is a vowel\n"
     ]
    }
   ],
   "source": [
    "letter = 'o'\n",
    "vowel_tuple = ('a', 'e', 'i', 'o', 'u')\n",
    "if letter in vowel_tuple:\n",
    "     print(letter, \"is a vowel\")"
   ]
  },
  {
   "cell_type": "code",
   "execution_count": 1,
   "id": "59b3d99b",
   "metadata": {},
   "outputs": [
    {
     "name": "stdout",
     "output_type": "stream",
     "text": [
      "a is a vowel\n"
     ]
    }
   ],
   "source": [
    "letter = 'a'\n",
    "vowel_dict = {'a': 'apple', 'e': 'elephant', 'i': 'impala', 'o': 'ocelot', 'u': 'unicorn'}\n",
    "if letter in vowel_dict:\n",
    "     print(letter, \"is a vowel\")"
   ]
  },
  {
   "cell_type": "code",
   "execution_count": 24,
   "id": "12e1938c",
   "metadata": {},
   "outputs": [
    {
     "name": "stdout",
     "output_type": "stream",
     "text": [
      "boy is in a\n"
     ]
    }
   ],
   "source": [
    "a = [\"i am a boy\", \"i am a girl\"]\n",
    "letter = 'boy'\n",
    "if letter in a[0]:\n",
    "    print(letter, 'is in a')\n",
    "else:\n",
    "    print(letter, 'is not in a')"
   ]
  },
  {
   "cell_type": "code",
   "execution_count": 7,
   "id": "c8fd0b76",
   "metadata": {},
   "outputs": [
    {
     "name": "stdout",
     "output_type": "stream",
     "text": [
      "apple is a vowel\n"
     ]
    }
   ],
   "source": [
    "letter = 'apple'\n",
    "vowel_dict = {'a': 'apple', 'e': 'elephant', 'i': 'impala', 'o': 'ocelot', 'u': 'unicorn'}\n",
    "for i in vowel_dict:\n",
    "    if letter in vowel_dict[i]:\n",
    "        print(letter, \"is a vowel\")"
   ]
  },
  {
   "cell_type": "code",
   "execution_count": 8,
   "id": "fd3e251b",
   "metadata": {},
   "outputs": [
    {
     "name": "stdout",
     "output_type": "stream",
     "text": [
      "i am a boy\n",
      "ab\n",
      "z\n"
     ]
    }
   ],
   "source": [
    "a_string = 'i am a boy'\n",
    "b_string = 'ab'\n",
    "c_string = 'z'\n",
    "print(a_string)\n",
    "print(b_string)\n",
    "print(c_string)"
   ]
  },
  {
   "cell_type": "code",
   "execution_count": 5,
   "id": "d6b56388",
   "metadata": {},
   "outputs": [
    {
     "data": {
      "text/plain": [
       "\"'Nay!' said the naysayer. 'Neight?' said the horse.\""
      ]
     },
     "execution_count": 5,
     "metadata": {},
     "output_type": "execute_result"
    }
   ],
   "source": [
    "\"'Nay!' said the naysayer. 'Neight?' said the horse.\""
   ]
  },
  {
   "cell_type": "code",
   "execution_count": 10,
   "id": "4781a5fd",
   "metadata": {},
   "outputs": [
    {
     "data": {
      "text/plain": [
       "\"'Nay!' said the naysayer. 'Neight?' said the horse.\""
      ]
     },
     "execution_count": 10,
     "metadata": {},
     "output_type": "execute_result"
    }
   ],
   "source": [
    "\"'Nay!' said the naysayer. \" + \"'Neight?' said the horse.\""
   ]
  },
  {
   "cell_type": "code",
   "execution_count": 15,
   "id": "7629ab3f",
   "metadata": {},
   "outputs": [
    {
     "name": "stdout",
     "output_type": "stream",
     "text": [
      "Henny\n",
      "Penny\n"
     ]
    }
   ],
   "source": [
    "name = 'Henny'\n",
    "name1 = name.replace('H','P')\n",
    "print(name)\n",
    "print(name1)"
   ]
  },
  {
   "cell_type": "code",
   "execution_count": 16,
   "id": "5cd14623",
   "metadata": {},
   "outputs": [
    {
     "name": "stdout",
     "output_type": "stream",
     "text": [
      "Henny\n",
      "Penny\n"
     ]
    }
   ],
   "source": [
    "name = 'Henny'\n",
    "name1 = 'P' + name[1:]\n",
    "print(name)\n",
    "print(name1)"
   ]
  },
  {
   "cell_type": "code",
   "execution_count": 17,
   "id": "a2450a9f",
   "metadata": {},
   "outputs": [
    {
     "data": {
      "text/plain": [
       "'enny'"
      ]
     },
     "execution_count": 17,
     "metadata": {},
     "output_type": "execute_result"
    }
   ],
   "source": [
    "name[1:]"
   ]
  },
  {
   "cell_type": "code",
   "execution_count": 18,
   "id": "ccb84506",
   "metadata": {},
   "outputs": [
    {
     "name": "stdout",
     "output_type": "stream",
     "text": [
      "Penny\n"
     ]
    }
   ],
   "source": [
    "name = 'Henny'\n",
    "name = name.replace('H','P')\n",
    "print(name)"
   ]
  },
  {
   "cell_type": "code",
   "execution_count": 21,
   "id": "eeae1614",
   "metadata": {},
   "outputs": [
    {
     "name": "stdout",
     "output_type": "stream",
     "text": [
      "Henny\n",
      "Penny\n"
     ]
    }
   ],
   "source": [
    "name = 'Henny'\n",
    "print(name)\n",
    "name = 'P' + name[1:]\n",
    "print(name)"
   ]
  },
  {
   "cell_type": "code",
   "execution_count": 23,
   "id": "b318bd01",
   "metadata": {},
   "outputs": [
    {
     "name": "stdout",
     "output_type": "stream",
     "text": [
      "Henny\n",
      "Penny\n"
     ]
    }
   ],
   "source": [
    "name = 'Henny'\n",
    "print(name)\n",
    "name = 'Penny'\n",
    "print(name)"
   ]
  },
  {
   "cell_type": "code",
   "execution_count": 25,
   "id": "580985f3",
   "metadata": {},
   "outputs": [
    {
     "name": "stdout",
     "output_type": "stream",
     "text": [
      "b.jpg\n"
     ]
    }
   ],
   "source": [
    "name = 'a.jpg'\n",
    "name = 'b'+name[1:]\n",
    "print(name)"
   ]
  },
  {
   "cell_type": "code",
   "execution_count": 26,
   "id": "3be72c3d",
   "metadata": {},
   "outputs": [
    {
     "name": "stdout",
     "output_type": "stream",
     "text": [
      "d.jpg\n"
     ]
    }
   ],
   "source": [
    "name = 'abc.jpg'\n",
    "name = 'd'+name[-4:]\n",
    "print(name)"
   ]
  },
  {
   "cell_type": "code",
   "execution_count": 28,
   "id": "f147e3d2",
   "metadata": {},
   "outputs": [
    {
     "name": "stdout",
     "output_type": "stream",
     "text": [
      "Henny.jpg\n",
      "Henny.bmp\n"
     ]
    }
   ],
   "source": [
    "name = 'Henny.jpg'\n",
    "print(name)\n",
    "name = name[:-4] + '.bmp'\n",
    "print(name)"
   ]
  },
  {
   "cell_type": "code",
   "execution_count": 29,
   "id": "369e56b2",
   "metadata": {},
   "outputs": [
    {
     "name": "stdout",
     "output_type": "stream",
     "text": [
      "Henny.jpg\n",
      "Henny.bmp\n"
     ]
    }
   ],
   "source": [
    "name = 'Henny.jpg'\n",
    "print(name)\n",
    "name = name.replace('.jpg', '.bmp')\n",
    "print(name)"
   ]
  },
  {
   "cell_type": "code",
   "execution_count": 33,
   "id": "7e5452b0",
   "metadata": {},
   "outputs": [
    {
     "name": "stdout",
     "output_type": "stream",
     "text": [
      "Kakao11000212967548_cat.jpg\n",
      "1_cat.jpg\n"
     ]
    }
   ],
   "source": [
    "name = 'Kakao11000212967548_cat.jpg'\n",
    "a = len(name)\n",
    "print(name[:a])\n",
    "name = '1'+name[-8:]\n",
    "print(name)"
   ]
  },
  {
   "cell_type": "code",
   "execution_count": 34,
   "id": "bcba04fa",
   "metadata": {},
   "outputs": [
    {
     "data": {
      "text/plain": [
       "['get gloves', 'get mask', 'give cat vitamins', 'call ambulance']"
      ]
     },
     "execution_count": 34,
     "metadata": {},
     "output_type": "execute_result"
    }
   ],
   "source": [
    "tasks = 'get gloves,get mask,give cat vitamins,call ambulance'\n",
    "tasks.split(',')"
   ]
  },
  {
   "cell_type": "code",
   "execution_count": 35,
   "id": "fd8c75ca",
   "metadata": {},
   "outputs": [
    {
     "data": {
      "text/plain": [
       "['get', 'gloves,get', 'mask,give', 'cat', 'vitamins,call', 'ambulance']"
      ]
     },
     "execution_count": 35,
     "metadata": {},
     "output_type": "execute_result"
    }
   ],
   "source": [
    "tasks.split()"
   ]
  },
  {
   "cell_type": "code",
   "execution_count": 60,
   "id": "5cc5123d",
   "metadata": {
    "scrolled": true
   },
   "outputs": [
    {
     "name": "stdout",
     "output_type": "stream",
     "text": [
      "['get gloves', 'get mask', 'give cat vitamins', 'call ambulance']\n",
      "['get', 'gloves']\n",
      "['get', 'mask']\n",
      "['give', 'cat', 'vitamins']\n",
      "['call', 'ambulance']\n"
     ]
    }
   ],
   "source": [
    "tasks = 'get gloves,get mask,give cat vitamins,call ambulance'\n",
    "tasks1 = tasks.split(',')\n",
    "print(tasks1)\n",
    "for i in range(len(tasks1)):\n",
    "    tasks2 = tasks1[i].split()\n",
    "    print(tasks2)"
   ]
  },
  {
   "cell_type": "code",
   "execution_count": 59,
   "id": "3d25b8db",
   "metadata": {},
   "outputs": [
    {
     "name": "stdout",
     "output_type": "stream",
     "text": [
      "<class 'list'>\n",
      "4\n",
      "get gloves\n",
      "<class 'str'>\n"
     ]
    },
    {
     "data": {
      "text/plain": [
       "['get', 'gloves']"
      ]
     },
     "execution_count": 59,
     "metadata": {},
     "output_type": "execute_result"
    }
   ],
   "source": [
    "print(type(tasks1))\n",
    "print(len(tasks1))\n",
    "tasks1[0]\n",
    "print(tasks1[0])\n",
    "print(type(tasks1[0]))\n",
    "tasks1[0].split()"
   ]
  },
  {
   "cell_type": "code",
   "execution_count": 41,
   "id": "4ee9920d",
   "metadata": {},
   "outputs": [
    {
     "name": "stdout",
     "output_type": "stream",
     "text": [
      "Found and signing book deals: Yeti,Bigfoot,Loch Ness Monster\n"
     ]
    }
   ],
   "source": [
    "crypto_list = ['Yeti', 'Bigfoot', 'Loch Ness Monster']\n",
    "crypto_string = ','.join(crypto_list)\n",
    "print('Found and signing book deals:', crypto_string)"
   ]
  },
  {
   "cell_type": "code",
   "execution_count": 51,
   "id": "a4246310",
   "metadata": {},
   "outputs": [
    {
     "data": {
      "text/plain": [
       "' earth'"
      ]
     },
     "execution_count": 51,
     "metadata": {},
     "output_type": "execute_result"
    }
   ],
   "source": [
    "world = \" earth \"\n",
    "world.lstrip()\n",
    "world.rstrip()"
   ]
  },
  {
   "cell_type": "code",
   "execution_count": 66,
   "id": "8d390d56",
   "metadata": {},
   "outputs": [
    {
     "name": "stdout",
     "output_type": "stream",
     "text": [
      "13\n",
      "29\n",
      "2\n"
     ]
    }
   ],
   "source": [
    "a = \"나는 이 세상에서 가장 행복하게 살기 위해 노력하는 행복 지킴이입니다.\"\n",
    "word = \"행복\"\n",
    "print(a.find(word))\n",
    "print(a.rindex(word))\n",
    "print(a.count(word))"
   ]
  },
  {
   "cell_type": "code",
   "execution_count": 69,
   "id": "1f170039",
   "metadata": {},
   "outputs": [
    {
     "name": "stdout",
     "output_type": "stream",
     "text": [
      "a duck goes into a bar\n",
      "A duck goes into a bar...\n",
      "A Duck Goes Into A Bar...\n",
      "A DUCK GOES INTO A BAR...\n",
      "a duck goes into a bar...\n",
      "A DUCK GOES INTO A BAR...\n",
      "            a duck goes into a bar...             \n"
     ]
    }
   ],
   "source": [
    "setup = 'a duck goes into a bar...'\n",
    "print(setup.strip('.'))\n",
    "print(setup.capitalize())\n",
    "print(setup.title())\n",
    "print(setup.upper())\n",
    "print(setup.lower())\n",
    "print(setup.swapcase())\n",
    "print(setup.center(50))"
   ]
  },
  {
   "cell_type": "code",
   "execution_count": 76,
   "id": "2a3e37c0",
   "metadata": {},
   "outputs": [
    {
     "name": "stdout",
     "output_type": "stream",
     "text": [
      "        hi\n",
      "hi        \n",
      "i eat 3 apple\n",
      "i eat five apple\n",
      "i ate 3 apple, so i was sick for five days.\n",
      "Error rate is               93.356%.\n"
     ]
    }
   ],
   "source": [
    "print(\"%10s\" % \"hi\")\n",
    "print(\"%-10s\" % \"hi\")\n",
    "print(\"i eat %d apple\" % 3)\n",
    "print(\"i eat %s apple\" % \"five\")\n",
    "print(\"i ate %d apple, so i was sick for %s days.\" % (3, \"five\"))\n",
    "print(\"Error rate is %20.3f%%.\" % 93.3555)"
   ]
  },
  {
   "cell_type": "code",
   "execution_count": 80,
   "id": "54bdd925",
   "metadata": {},
   "outputs": [
    {
     "name": "stdout",
     "output_type": "stream",
     "text": [
      "The wereduck is in the werepond\n"
     ]
    }
   ],
   "source": [
    "thing = 'wereduck'\n",
    "place = 'werepond'\n",
    "f'The {thing} is in the {place}'\n",
    "print(f'The {thing} is in the {place}')"
   ]
  },
  {
   "cell_type": "code",
   "execution_count": 92,
   "id": "0b12d585",
   "metadata": {},
   "outputs": [
    {
     "name": "stdout",
     "output_type": "stream",
     "text": [
      "나의 이름은 김아무개입니다. 나이는 40입니다.\n",
      "나의 이름은 김아무개입니다. 내년 나이는 41입니다.\n"
     ]
    }
   ],
   "source": [
    "name = '김아무개' \n",
    "age = 40\n",
    "\n",
    "print(f'나의 이름은 {name}입니다. 나이는 {age}입니다.')\n",
    "print(f'나의 이름은 {name}입니다. 내년 나이는 {age+1}입니다.')"
   ]
  },
  {
   "cell_type": "code",
   "execution_count": 1,
   "id": "c0b79e6c",
   "metadata": {},
   "outputs": [
    {
     "name": "stdout",
     "output_type": "stream",
     "text": [
      "['How', 'do', 'I', 'love', 'thee', 'Let', 'me', 'count', 'the', 'ways', 'I', 'love', 'thee', 'to', 'the', 'depth', 'and', 'breadth', 'and', 'height', 'My', 'soul', 'can', 'reach', 'when', 'feeling', 'out', 'of', 'sight', 'For', 'the', 'ends', 'of', 'Being', 'and', 'ideal', 'Grace', 'I', 'love', 'thee', 'to', 'the', 'level', 'of', \"everyday's\", 'Most', 'quiet', 'need', 'by', 'sun', 'and', 'candlelight', 'I', 'love', 'thee', 'freely', 'as', 'men', 'strive', 'for', 'Right', 'I', 'love', 'thee', 'purely', 'as', 'they', 'turn', 'from', 'Praise', 'I', 'love', 'thee', 'with', 'the', 'passion', 'put', 'to', 'use', 'In', 'my', 'old', 'griefs', 'and', 'with', 'my', \"childhood's\", 'faith', 'I', 'love', 'thee', 'with', 'a', 'love', 'I', 'seemed', 'to', 'lose', 'With', 'my', 'lost', 'saint', 'I', 'love', 'thee', 'with', 'the', 'breath', 'Smiles', 'tears', 'of', 'all', 'my', 'life', 'and', 'if', 'God', 'choose', 'I', 'shall', 'but', 'love', 'thee', 'better', 'after', 'death']\n",
      "{'How': 1, 'do': 1, 'I': 10, 'love': 10, 'thee': 9, 'Let': 1, 'me': 1, 'count': 1, 'the': 6, 'ways': 1, 'to': 4, 'depth': 1, 'and': 6, 'breadth': 1, 'height': 1, 'My': 1, 'soul': 1, 'can': 1, 'reach': 1, 'when': 1, 'feeling': 1, 'out': 1, 'of': 4, 'sight': 1, 'For': 1, 'ends': 1, 'Being': 1, 'ideal': 1, 'Grace': 1, 'level': 1, \"everyday's\": 1, 'Most': 1, 'quiet': 1, 'need': 1, 'by': 1, 'sun': 1, 'candlelight': 1, 'freely': 1, 'as': 2, 'men': 1, 'strive': 1, 'for': 1, 'Right': 1, 'purely': 1, 'they': 1, 'turn': 1, 'from': 1, 'Praise': 1, 'with': 4, 'passion': 1, 'put': 1, 'use': 1, 'In': 1, 'my': 4, 'old': 1, 'griefs': 1, \"childhood's\": 1, 'faith': 1, 'a': 1, 'seemed': 1, 'lose': 1, 'With': 1, 'lost': 1, 'saint': 1, 'breath': 1, 'Smiles': 1, 'tears': 1, 'all': 1, 'life': 1, 'if': 1, 'God': 1, 'choose': 1, 'shall': 1, 'but': 1, 'better': 1, 'after': 1, 'death': 1}\n"
     ]
    },
    {
     "data": {
      "image/png": "[encoded data removed]",
      "text/plain": [
       "<Figure size 10000x1500 with 1 Axes>"
      ]
     },
     "metadata": {},
     "output_type": "display_data"
    }
   ],
   "source": [
    "poem = \"How do I love thee? Let me count the ways. \\\n",
    "I love thee to the depth and breadth and height \\\n",
    "My soul can reach, when feeling out of sight \\\n",
    "For the ends of Being and ideal Grace. \\\n",
    "I love thee to the level of everyday's \\\n",
    "Most quiet need, by sun and candle-light. \\\n",
    "I love thee freely, as men strive for Right; \\\n",
    "I love thee purely, as they turn from Praise. \\\n",
    "I love thee with the passion put to use \\\n",
    "In my old griefs, and with my childhood's faith. \\\n",
    "I love thee with a love I seemed to lose \\\n",
    "With my lost saint - I love thee with the breath, \\\n",
    "Smiles, tears, of all my life! - and if God choose, \\\n",
    "I shall but love thee better after death.\"\n",
    "    \n",
    "dist = poem.replace('-','')\n",
    "dist = dist.replace(',', '')\n",
    "dist = dist.replace('.', '')\n",
    "dist = dist.replace('!', '')\n",
    "dist = dist.replace('?', '')\n",
    "dist = dist.replace(';', '')\n",
    "\n",
    "dist1 = dist.split()\n",
    "# dist2 = dist.split('\\n')\n",
    "print(dist1)\n",
    "\n",
    "dup = {}\n",
    "for word in dist1:\n",
    "    if word not in dup.keys():\n",
    "        dup[word] = 1       \n",
    "    else:\n",
    "        dup[word] += 1\n",
    "# print(dup.keys())\n",
    "print(dup)\n",
    "# dup1 = sorted(dup.items(), key=lambda item:item[1], reverse=True)\n",
    "# print(dup1)\n",
    "\n",
    "import matplotlib.pyplot as plt\n",
    "\n",
    "x = [word for word in dup.keys()] \n",
    "y = [word for word in dup.values()] \n",
    "# print(x)\n",
    "# print(y)\n",
    "\n",
    "plt.figure(figsize=(100, 15))\n",
    "plt.bar(x,y, color='b', label='word')\n",
    "plt.xlabel('Word', fontsize=30, color='k')\n",
    "plt.ylabel('Count', fontsize=30, color='k')\n",
    "plt.xticks(x, fontsize=22, color='r')\n",
    "plt.title('Poem of Word Count', fontsize=50, color='k')\n",
    "plt.rcParams['axes.grid'] = True\n",
    "plt.legend(loc=4)\n",
    "plt.show()"
   ]
  },
  {
   "cell_type": "code",
   "execution_count": null,
   "id": "b24a0371",
   "metadata": {},
   "outputs": [],
   "source": []
  }
 ],
 "metadata": {
  "kernelspec": {
   "display_name": "Python 3 (ipykernel)",
   "language": "python",
   "name": "python3"
  },
  "language_info": {
   "codemirror_mode": {
    "name": "ipython",
    "version": 3
   },
   "file_extension": ".py",
   "mimetype": "text/x-python",
   "name": "python",
   "nbconvert_exporter": "python",
   "pygments_lexer": "ipython3",
   "version": "3.10.9"
  }
 },
 "nbformat": 4,
 "nbformat_minor": 5
}
