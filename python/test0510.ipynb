{
 "cells": [
  {
   "cell_type": "code",
   "execution_count": 1,
   "id": "44787be6",
   "metadata": {},
   "outputs": [
    {
     "name": "stdout",
     "output_type": "stream",
     "text": [
      "1\n",
      "2\n",
      "3\n",
      "4\n",
      "5\n"
     ]
    }
   ],
   "source": [
    "count=1\n",
    "while count<=5:\n",
    "    print(count)\n",
    "    count+=1"
   ]
  },
  {
   "cell_type": "code",
   "execution_count": 2,
   "id": "0762014f",
   "metadata": {},
   "outputs": [
    {
     "ename": "KeyboardInterrupt",
     "evalue": "Interrupted by user",
     "output_type": "error",
     "traceback": [
      "\u001b[1;31m---------------------------------------------------------------------------\u001b[0m",
      "\u001b[1;31mKeyboardInterrupt\u001b[0m                         Traceback (most recent call last)",
      "Cell \u001b[1;32mIn[2], line 2\u001b[0m\n\u001b[0;32m      1\u001b[0m \u001b[38;5;28;01mwhile\u001b[39;00m \u001b[38;5;28;01mTrue\u001b[39;00m:\n\u001b[1;32m----> 2\u001b[0m     stuff \u001b[38;5;241m=\u001b[39m \u001b[38;5;28;43minput\u001b[39;49m\u001b[43m(\u001b[49m\u001b[38;5;124;43m\"\u001b[39;49m\u001b[38;5;124;43mString to capitalize[type q to quit]:\u001b[39;49m\u001b[38;5;124;43m\"\u001b[39;49m\u001b[43m)\u001b[49m\n\u001b[0;32m      3\u001b[0m     \u001b[38;5;28;01mif\u001b[39;00m stuff \u001b[38;5;241m==\u001b[39m \u001b[38;5;124m'\u001b[39m\u001b[38;5;124mq\u001b[39m\u001b[38;5;124m'\u001b[39m:\n\u001b[0;32m      4\u001b[0m         \u001b[38;5;28mprint\u001b[39m(\u001b[38;5;124m\"\u001b[39m\u001b[38;5;124m종료하겠습니다.\u001b[39m\u001b[38;5;124m\"\u001b[39m)\n",
      "File \u001b[1;32m~\\anaconda3\\lib\\site-packages\\ipykernel\\kernelbase.py:1175\u001b[0m, in \u001b[0;36mKernel.raw_input\u001b[1;34m(self, prompt)\u001b[0m\n\u001b[0;32m   1171\u001b[0m \u001b[38;5;28;01mif\u001b[39;00m \u001b[38;5;129;01mnot\u001b[39;00m \u001b[38;5;28mself\u001b[39m\u001b[38;5;241m.\u001b[39m_allow_stdin:\n\u001b[0;32m   1172\u001b[0m     \u001b[38;5;28;01mraise\u001b[39;00m StdinNotImplementedError(\n\u001b[0;32m   1173\u001b[0m         \u001b[38;5;124m\"\u001b[39m\u001b[38;5;124mraw_input was called, but this frontend does not support input requests.\u001b[39m\u001b[38;5;124m\"\u001b[39m\n\u001b[0;32m   1174\u001b[0m     )\n\u001b[1;32m-> 1175\u001b[0m \u001b[38;5;28;01mreturn\u001b[39;00m \u001b[38;5;28;43mself\u001b[39;49m\u001b[38;5;241;43m.\u001b[39;49m\u001b[43m_input_request\u001b[49m\u001b[43m(\u001b[49m\n\u001b[0;32m   1176\u001b[0m \u001b[43m    \u001b[49m\u001b[38;5;28;43mstr\u001b[39;49m\u001b[43m(\u001b[49m\u001b[43mprompt\u001b[49m\u001b[43m)\u001b[49m\u001b[43m,\u001b[49m\n\u001b[0;32m   1177\u001b[0m \u001b[43m    \u001b[49m\u001b[38;5;28;43mself\u001b[39;49m\u001b[38;5;241;43m.\u001b[39;49m\u001b[43m_parent_ident\u001b[49m\u001b[43m[\u001b[49m\u001b[38;5;124;43m\"\u001b[39;49m\u001b[38;5;124;43mshell\u001b[39;49m\u001b[38;5;124;43m\"\u001b[39;49m\u001b[43m]\u001b[49m\u001b[43m,\u001b[49m\n\u001b[0;32m   1178\u001b[0m \u001b[43m    \u001b[49m\u001b[38;5;28;43mself\u001b[39;49m\u001b[38;5;241;43m.\u001b[39;49m\u001b[43mget_parent\u001b[49m\u001b[43m(\u001b[49m\u001b[38;5;124;43m\"\u001b[39;49m\u001b[38;5;124;43mshell\u001b[39;49m\u001b[38;5;124;43m\"\u001b[39;49m\u001b[43m)\u001b[49m\u001b[43m,\u001b[49m\n\u001b[0;32m   1179\u001b[0m \u001b[43m    \u001b[49m\u001b[43mpassword\u001b[49m\u001b[38;5;241;43m=\u001b[39;49m\u001b[38;5;28;43;01mFalse\u001b[39;49;00m\u001b[43m,\u001b[49m\n\u001b[0;32m   1180\u001b[0m \u001b[43m\u001b[49m\u001b[43m)\u001b[49m\n",
      "File \u001b[1;32m~\\anaconda3\\lib\\site-packages\\ipykernel\\kernelbase.py:1217\u001b[0m, in \u001b[0;36mKernel._input_request\u001b[1;34m(self, prompt, ident, parent, password)\u001b[0m\n\u001b[0;32m   1214\u001b[0m             \u001b[38;5;28;01mbreak\u001b[39;00m\n\u001b[0;32m   1215\u001b[0m \u001b[38;5;28;01mexcept\u001b[39;00m \u001b[38;5;167;01mKeyboardInterrupt\u001b[39;00m:\n\u001b[0;32m   1216\u001b[0m     \u001b[38;5;66;03m# re-raise KeyboardInterrupt, to truncate traceback\u001b[39;00m\n\u001b[1;32m-> 1217\u001b[0m     \u001b[38;5;28;01mraise\u001b[39;00m \u001b[38;5;167;01mKeyboardInterrupt\u001b[39;00m(\u001b[38;5;124m\"\u001b[39m\u001b[38;5;124mInterrupted by user\u001b[39m\u001b[38;5;124m\"\u001b[39m) \u001b[38;5;28;01mfrom\u001b[39;00m \u001b[38;5;28mNone\u001b[39m\n\u001b[0;32m   1218\u001b[0m \u001b[38;5;28;01mexcept\u001b[39;00m \u001b[38;5;167;01mException\u001b[39;00m:\n\u001b[0;32m   1219\u001b[0m     \u001b[38;5;28mself\u001b[39m\u001b[38;5;241m.\u001b[39mlog\u001b[38;5;241m.\u001b[39mwarning(\u001b[38;5;124m\"\u001b[39m\u001b[38;5;124mInvalid Message:\u001b[39m\u001b[38;5;124m\"\u001b[39m, exc_info\u001b[38;5;241m=\u001b[39m\u001b[38;5;28;01mTrue\u001b[39;00m)\n",
      "\u001b[1;31mKeyboardInterrupt\u001b[0m: Interrupted by user"
     ]
    }
   ],
   "source": [
    "while True:\n",
    "    stuff = input(\"String to capitalize[type q to quit]:\")\n",
    "    if stuff == 'q':\n",
    "        print(\"종료하겠습니다.\")\n",
    "        break\n",
    "        print(\"종료하겠습니다!\")\n",
    "    print(stuff.capitalize())"
   ]
  },
  {
   "cell_type": "code",
   "execution_count": null,
   "id": "3710cf6c",
   "metadata": {},
   "outputs": [],
   "source": [
    "while True:\n",
    "    value = input(\"Integer, please[q to quit]:\")\n",
    "    if value == 'q':\n",
    "        break\n",
    "    value = int(value)\n",
    "    if value % 2 == 0:\n",
    "        continue\n",
    "    print(value, \"squared is\", value * value)"
   ]
  },
  {
   "cell_type": "code",
   "execution_count": null,
   "id": "3f96c29c",
   "metadata": {},
   "outputs": [],
   "source": [
    "numbers = [1, 2, 6]\n",
    "position = 0\n",
    "while position < len(numbers):\n",
    "    number = numbers[position]\n",
    "    if number % 2 == 0:\n",
    "        print(\"Found even number\", number)\n",
    "        break\n",
    "    position += 1\n",
    "else:  # else만 써도 되는 일종의 함수 \n",
    "    print(\"No even number found\")"
   ]
  },
  {
   "cell_type": "code",
   "execution_count": null,
   "id": "baa2ec89",
   "metadata": {},
   "outputs": [],
   "source": [
    "word = 'thud'\n",
    "offset = 0\n",
    "while offset < len(word):\n",
    "    print(word[offset])\n",
    "    offset += 1"
   ]
  },
  {
   "cell_type": "code",
   "execution_count": null,
   "id": "6d738d5d",
   "metadata": {},
   "outputs": [],
   "source": [
    "for letter in word:\n",
    "    print(letter)"
   ]
  },
  {
   "cell_type": "code",
   "execution_count": null,
   "id": "f9587767",
   "metadata": {},
   "outputs": [],
   "source": [
    "print(type(letter))"
   ]
  },
  {
   "cell_type": "code",
   "execution_count": null,
   "id": "dca56942",
   "metadata": {},
   "outputs": [],
   "source": [
    "for x in range(10):\n",
    "    print(x)"
   ]
  },
  {
   "cell_type": "code",
   "execution_count": null,
   "id": "a795ffee",
   "metadata": {},
   "outputs": [],
   "source": [
    "for x in range(1,11):\n",
    "    print(x)"
   ]
  },
  {
   "cell_type": "code",
   "execution_count": null,
   "id": "a93710e2",
   "metadata": {},
   "outputs": [],
   "source": [
    "for x in range(1,10,2):\n",
    "    print(x)"
   ]
  },
  {
   "cell_type": "code",
   "execution_count": null,
   "id": "864f277f",
   "metadata": {},
   "outputs": [],
   "source": [
    "list(range(2, -1, -1))"
   ]
  },
  {
   "cell_type": "code",
   "execution_count": null,
   "id": "89564a58",
   "metadata": {},
   "outputs": [],
   "source": [
    "list(range(0, 11, 2))"
   ]
  },
  {
   "cell_type": "code",
   "execution_count": null,
   "id": "d2e624a8",
   "metadata": {},
   "outputs": [],
   "source": [
    "ID = \"tinylwn\"\n",
    "password = \"123456\"\n",
    "\n",
    "while True:\n",
    "    str = input(\"ID:\")\n",
    "    psw = input(\"비번:\")\n",
    "    \n",
    "    if str == ID and psw == password:\n",
    "        print(\"로그인 되었습니다.\")\n",
    "        break\n",
    "        \n",
    "    if str != ID:\n",
    "        print(\"ID가 틀렸습니다.\")\n",
    "        continue\n",
    "    \n",
    "    if psw != password:\n",
    "        print(\"비번이 틀렸습니다.\")\n",
    "        continue "
   ]
  },
  {
   "cell_type": "code",
   "execution_count": null,
   "id": "202777c2",
   "metadata": {},
   "outputs": [],
   "source": [
    "empty_tuple = ()\n",
    "print(empty_tuple)"
   ]
  },
  {
   "cell_type": "code",
   "execution_count": null,
   "id": "97420024",
   "metadata": {},
   "outputs": [],
   "source": [
    "one_marx = (\"Groucho\",)\n",
    "print(one_marx)\n",
    "print(type(one_marx))"
   ]
  },
  {
   "cell_type": "code",
   "execution_count": null,
   "id": "7d3b74e0",
   "metadata": {},
   "outputs": [],
   "source": [
    "one_marx = \"Groucho\", \"Chico\", \"Harpo\"\n",
    "print(one_marx)\n",
    "max_tuple = 1, '2', 3\n",
    "print(max_tuple)\n",
    "type(max_tuple[0])"
   ]
  },
  {
   "cell_type": "code",
   "execution_count": null,
   "id": "a938de2a",
   "metadata": {},
   "outputs": [],
   "source": [
    "one_marx = \"Groucho\", \"Chico\", \"Harpo\"\n",
    "a, b, c = one_marx\n",
    "print(a)\n",
    "print(type(a))\n",
    "print(b)\n",
    "print(c)"
   ]
  },
  {
   "cell_type": "code",
   "execution_count": null,
   "id": "d1f118b4",
   "metadata": {},
   "outputs": [],
   "source": [
    "a = (5, 7, 9)\n",
    "b = (7, 2, 3)\n",
    "print(a == b)\n",
    "print(a <= b)\n",
    "print(a < b)"
   ]
  },
  {
   "cell_type": "code",
   "execution_count": null,
   "id": "a9cb3512",
   "metadata": {},
   "outputs": [],
   "source": [
    "empty_list = []\n",
    "weekdays = ['Monday', 'Tuesday', 'Wednesday', 'Thursday', 'Friday']\n",
    "big_birds = ['emu', 'ostrich', 'cassowary']\n",
    "first_names = ['Graham', 'John', 'Terry', 'Terry', 'Michael']\n",
    "leap_years = [2000, 2004, 2008]\n",
    "randomness = ['Punxsatawney', {'groundhog': 'phil'}, 'Feb. 2']\n",
    "print(randomness)"
   ]
  },
  {
   "cell_type": "code",
   "execution_count": null,
   "id": "e68680d2",
   "metadata": {},
   "outputs": [],
   "source": [
    "one_marx = [\"Groucho\", \"Chico\", \"Harpo\"]\n",
    "print(one_marx[0])\n",
    "print(one_marx[:])\n",
    "print(one_marx[1:])\n",
    "print(one_marx[2:])\n",
    "print(one_marx[:-1])\n",
    "print(one_marx[::2])\n",
    "print(one_marx[::-2])"
   ]
  },
  {
   "cell_type": "code",
   "execution_count": null,
   "id": "7f8be895",
   "metadata": {},
   "outputs": [],
   "source": [
    "one_marx = [\"Groucho\", \"Chico\", \"Harpo\"]\n",
    "one_marx.reverse()\n",
    "print(one_marx)"
   ]
  },
  {
   "cell_type": "code",
   "execution_count": null,
   "id": "b004980f",
   "metadata": {},
   "outputs": [],
   "source": [
    "marxes = [\"Groucho\", \"Chico\", \"Harpo\"]\n",
    "print(marxes[4:])\n",
    "print(marxes[-6:])\n",
    "print(marxes[-6:-2])\n",
    "print(marxes[-6:-4])\n",
    "\n",
    "list = marxes.append('Zeppo')\n",
    "# list = marxes\n",
    "marxes.insert(2, 'Zeppo')\n",
    "print(marxes)\n",
    "print(list)"
   ]
  },
  {
   "cell_type": "code",
   "execution_count": null,
   "id": "2b90f3a2",
   "metadata": {},
   "outputs": [],
   "source": [
    "marxes = [\"Groucho\", \"Chico\", \"Harpo\"]\n",
    "marxes[2] = 'Wanda'\n",
    "print(marxes)"
   ]
  },
  {
   "cell_type": "code",
   "execution_count": null,
   "id": "eda4ca26",
   "metadata": {},
   "outputs": [],
   "source": [
    "numbers = [1, 2, 3, 4]\n",
    "numbers[1:3] = [8, 9]          # numbers[1:3]: numbers[1], number[2]\n",
    "print(numbers)\n",
    "numbers[1:4] = [5, 6]\n",
    "print(numbers)"
   ]
  },
  {
   "cell_type": "code",
   "execution_count": null,
   "id": "ac457d3e",
   "metadata": {},
   "outputs": [],
   "source": [
    "numbers = [1, 2, 3, 4]\n",
    "numbers[1:3] = 'wat?'\n",
    "print(numbers)"
   ]
  },
  {
   "cell_type": "code",
   "execution_count": null,
   "id": "18abfa56",
   "metadata": {},
   "outputs": [],
   "source": [
    "marxes = [\"Groucho\", \"Chico\", \"Harpo\"]\n",
    "marxes.remove('Groucho')\n",
    "print(marxes)"
   ]
  },
  {
   "cell_type": "code",
   "execution_count": null,
   "id": "8b14194c",
   "metadata": {},
   "outputs": [],
   "source": [
    "marxes = [\"Groucho\", \"Chico\", \"Harpo\"]\n",
    "marxes.pop()\n",
    "print(marxes)\n",
    "marxes.pop(1)\n",
    "print(marxes)"
   ]
  },
  {
   "cell_type": "code",
   "execution_count": null,
   "id": "9f0ecae5",
   "metadata": {},
   "outputs": [],
   "source": [
    "marxes = [\"Groucho\", \"Chico\", \"Harpo\"]\n",
    "marxes1 = ','.join(marxes)\n",
    "print(marxes1)\n",
    "type(marxes1)"
   ]
  },
  {
   "cell_type": "code",
   "execution_count": null,
   "id": "f282e57b",
   "metadata": {},
   "outputs": [],
   "source": [
    "friends = ['Harry', 'Hermione', 'Ron']\n",
    "separator = '*'\n",
    "joined = separator.join(friends)\n",
    "print(joined)\n",
    "separated = joined.split(separator)\n",
    "print(separated)\n",
    "print(separated == friends)"
   ]
  },
  {
   "cell_type": "code",
   "execution_count": null,
   "id": "d7d41a19",
   "metadata": {},
   "outputs": [],
   "source": [
    "marxes = [\"Groucho\", \"Chico\", \"Harpo\"]\n",
    "sorted_marxes = sorted(marxes)\n",
    "print(sorted_marxes)\n",
    "print(marxes)\n",
    "\n",
    "marxes.sort()\n",
    "print(marxes)"
   ]
  },
  {
   "cell_type": "code",
   "execution_count": null,
   "id": "b2cac4fc",
   "metadata": {},
   "outputs": [],
   "source": [
    "numbers = [2, 1, 4.0, 3]\n",
    "numbers.sort()\n",
    "print(numbers)"
   ]
  },
  {
   "cell_type": "code",
   "execution_count": null,
   "id": "61a88c4d",
   "metadata": {},
   "outputs": [],
   "source": [
    "numbers = [2, 1, 4.0, 3]\n",
    "numbers.sort(reverse=True)\n",
    "print(numbers)"
   ]
  },
  {
   "cell_type": "code",
   "execution_count": 5,
   "id": "5467d1aa",
   "metadata": {},
   "outputs": [
    {
     "name": "stdout",
     "output_type": "stream",
     "text": [
      "['1', '2', '3']\n",
      "['1', '2', '3']\n",
      "['1', '2', '3']\n"
     ]
    }
   ],
   "source": [
    "a1 = ['1', '2', '3']\n",
    "b = a1.copy()\n",
    "c = list(a1)\n",
    "d = a1[:]\n",
    "print(b)\n",
    "print(c)\n",
    "print(d)"
   ]
  },
  {
   "cell_type": "code",
   "execution_count": 7,
   "id": "93258f32",
   "metadata": {},
   "outputs": [
    {
     "name": "stdout",
     "output_type": "stream",
     "text": [
      "9\n",
      "[1, 2, [8, 9]]\n",
      "[1, 2, [8, 9]]\n",
      "[1, 2, [8, 9]]\n"
     ]
    }
   ],
   "source": [
    "a3 = [1, 2, [8, 9]]\n",
    "b3 = a3.copy()\n",
    "c3 = list(a3)\n",
    "d3 = a3[:]\n",
    "print(a[2][1])\n",
    "print(b)\n",
    "print(c)\n",
    "print(d)"
   ]
  },
  {
   "cell_type": "code",
   "execution_count": null,
   "id": "78cb5e7e",
   "metadata": {},
   "outputs": [],
   "source": []
  }
 ],
 "metadata": {
  "kernelspec": {
   "display_name": "Python 3 (ipykernel)",
   "language": "python",
   "name": "python3"
  },
  "language_info": {
   "codemirror_mode": {
    "name": "ipython",
    "version": 3
   },
   "file_extension": ".py",
   "mimetype": "text/x-python",
   "name": "python",
   "nbconvert_exporter": "python",
   "pygments_lexer": "ipython3",
   "version": "3.10.9"
  }
 },
 "nbformat": 4,
 "nbformat_minor": 5
}
